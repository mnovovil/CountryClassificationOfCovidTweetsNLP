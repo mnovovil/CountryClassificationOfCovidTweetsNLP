{
 "cells": [
  {
   "cell_type": "code",
   "execution_count": 2,
   "metadata": {},
   "outputs": [
    {
     "name": "stderr",
     "output_type": "stream",
     "text": [
      "Using state New York server backend.\n",
      "[nltk_data] Downloading package wordnet to\n",
      "[nltk_data]     C:\\Users\\Thomas\\AppData\\Roaming\\nltk_data...\n",
      "[nltk_data]   Package wordnet is already up-to-date!\n",
      "[nltk_data] Downloading package punkt to\n",
      "[nltk_data]     C:\\Users\\Thomas\\AppData\\Roaming\\nltk_data...\n",
      "[nltk_data]   Package punkt is already up-to-date!\n",
      "[nltk_data] Downloading package stopwords to\n",
      "[nltk_data]     C:\\Users\\Thomas\\AppData\\Roaming\\nltk_data...\n",
      "[nltk_data]   Package stopwords is already up-to-date!\n",
      "[nltk_data] Downloading package averaged_perceptron_tagger to\n",
      "[nltk_data]     C:\\Users\\Thomas\\AppData\\Roaming\\nltk_data...\n",
      "[nltk_data]   Package averaged_perceptron_tagger is already up-to-\n",
      "[nltk_data]       date!\n"
     ]
    },
    {
     "data": {
      "text/plain": [
       "True"
      ]
     },
     "execution_count": 2,
     "metadata": {},
     "output_type": "execute_result"
    }
   ],
   "source": [
    "import random as rand\n",
    "import pandas as pd\n",
    "import re\n",
    "import emoji\n",
    "import html\n",
    "import matplotlib.pyplot as plt\n",
    "import numpy as np\n",
    "import swifter\n",
    "import seaborn as sns\n",
    "import translators as ts\n",
    "import warnings\n",
    "import nltk\n",
    "\n",
    "from tqdm import tqdm\n",
    "from bs4 import BeautifulSoup\n",
    "from sklearn.metrics.pairwise import cosine_similarity\n",
    "from google_trans_new import google_translator\n",
    "from langdetect import detect\n",
    "from nltk.stem import WordNetLemmatizer\n",
    "from nltk.corpus import stopwords\n",
    "from nltk.tokenize import TweetTokenizer\n",
    "from wordcloud import WordCloud\n",
    "from sklearn.feature_extraction.text import TfidfVectorizer, CountVectorizer\n",
    "from sklearn.decomposition import NMF, LatentDirichletAllocation\n",
    "from time import time\n",
    "\n",
    "nltk.download('wordnet')\n",
    "nltk.download('punkt')\n",
    "nltk.download('stopwords')\n",
    "nltk.download(\"averaged_perceptron_tagger\")"
   ]
  },
  {
   "cell_type": "code",
   "execution_count": 3,
   "metadata": {},
   "outputs": [],
   "source": [
    "rand.seed(0)"
   ]
  },
  {
   "cell_type": "code",
   "execution_count": 5,
   "metadata": {},
   "outputs": [
    {
     "name": "stderr",
     "output_type": "stream",
     "text": [
      "C:\\Users\\Thomas\\AppData\\Roaming\\Python\\Python39\\site-packages\\IPython\\core\\interactiveshell.py:3378: DtypeWarning: Columns (3,4) have mixed types.Specify dtype option on import or set low_memory=False.\n",
      "  exec(code_obj, self.user_global_ns, self.user_ns)\n"
     ]
    },
    {
     "data": {
      "text/html": [
       "<div>\n",
       "<style scoped>\n",
       "    .dataframe tbody tr th:only-of-type {\n",
       "        vertical-align: middle;\n",
       "    }\n",
       "\n",
       "    .dataframe tbody tr th {\n",
       "        vertical-align: top;\n",
       "    }\n",
       "\n",
       "    .dataframe thead th {\n",
       "        text-align: right;\n",
       "    }\n",
       "</style>\n",
       "<table border=\"1\" class=\"dataframe\">\n",
       "  <thead>\n",
       "    <tr style=\"text-align: right;\">\n",
       "      <th></th>\n",
       "      <th>Unnamed: 0</th>\n",
       "      <th>text</th>\n",
       "      <th>reply_to_screen_name</th>\n",
       "      <th>is_quote</th>\n",
       "      <th>is_retweet</th>\n",
       "      <th>hashtags</th>\n",
       "      <th>country</th>\n",
       "      <th>all_english_text</th>\n",
       "      <th>expanded_urls</th>\n",
       "    </tr>\n",
       "  </thead>\n",
       "  <tbody>\n",
       "    <tr>\n",
       "      <th>0</th>\n",
       "      <td>0</td>\n",
       "      <td>Remember the #WuhanCoronaVirus? The pandemic w...</td>\n",
       "      <td>NaN</td>\n",
       "      <td>False</td>\n",
       "      <td>True</td>\n",
       "      <td>WuhanCoronaVirus KillerCuomo</td>\n",
       "      <td>us</td>\n",
       "      <td>Remember the #WuhanCoronaVirus? The pandemic w...</td>\n",
       "      <td>NaN</td>\n",
       "    </tr>\n",
       "    <tr>\n",
       "      <th>1</th>\n",
       "      <td>1</td>\n",
       "      <td>My sources @WhiteHouse say 2 tactics will be u...</td>\n",
       "      <td>NaN</td>\n",
       "      <td>False</td>\n",
       "      <td>True</td>\n",
       "      <td>Trump</td>\n",
       "      <td>us</td>\n",
       "      <td>My sources @WhiteHouse say 2 tactics will be u...</td>\n",
       "      <td>NaN</td>\n",
       "    </tr>\n",
       "    <tr>\n",
       "      <th>2</th>\n",
       "      <td>2</td>\n",
       "      <td>I'll venture a wild guess: If you were running...</td>\n",
       "      <td>NaN</td>\n",
       "      <td>False</td>\n",
       "      <td>True</td>\n",
       "      <td>COVID19</td>\n",
       "      <td>us</td>\n",
       "      <td>I'll venture a wild guess: If you were running...</td>\n",
       "      <td>https://www.science.org/content/article/new-wh...</td>\n",
       "    </tr>\n",
       "    <tr>\n",
       "      <th>3</th>\n",
       "      <td>3</td>\n",
       "      <td>#Pakistan (#GreenStimulus = #Nature protection...</td>\n",
       "      <td>NaN</td>\n",
       "      <td>False</td>\n",
       "      <td>True</td>\n",
       "      <td>Pakistan GreenStimulus Nature Green</td>\n",
       "      <td>us</td>\n",
       "      <td>#Pakistan (#GreenStimulus = #Nature protection...</td>\n",
       "      <td>https://news.trust.org/item/20200717070925-r4m...</td>\n",
       "    </tr>\n",
       "    <tr>\n",
       "      <th>4</th>\n",
       "      <td>4</td>\n",
       "      <td>🇺🇸 Pandémie de #coronavirus: 30 pasteurs améri...</td>\n",
       "      <td>NaN</td>\n",
       "      <td>False</td>\n",
       "      <td>True</td>\n",
       "      <td>coronavirus COVID__19 COVIDー19</td>\n",
       "      <td>us</td>\n",
       "      <td>🇺🇸 Pandemic of #Coronavirus: 30 American pasto...</td>\n",
       "      <td>NaN</td>\n",
       "    </tr>\n",
       "    <tr>\n",
       "      <th>...</th>\n",
       "      <td>...</td>\n",
       "      <td>...</td>\n",
       "      <td>...</td>\n",
       "      <td>...</td>\n",
       "      <td>...</td>\n",
       "      <td>...</td>\n",
       "      <td>...</td>\n",
       "      <td>...</td>\n",
       "      <td>...</td>\n",
       "    </tr>\n",
       "    <tr>\n",
       "      <th>239995</th>\n",
       "      <td>239995</td>\n",
       "      <td>Aa Likes, Retweets yentra 🙏\\n🔥🔥🔥\\n#Mastеr</td>\n",
       "      <td>NaN</td>\n",
       "      <td>True</td>\n",
       "      <td>True</td>\n",
       "      <td>Mastеr</td>\n",
       "      <td>new_zealand</td>\n",
       "      <td>Aa Likes, Retweets yentra 🙏\\n🔥🔥🔥\\n#Mastеr</td>\n",
       "      <td>NaN</td>\n",
       "    </tr>\n",
       "    <tr>\n",
       "      <th>239996</th>\n",
       "      <td>239996</td>\n",
       "      <td>Very interesting\\nAny thoughts?\\n\\n#TheFive #T...</td>\n",
       "      <td>NaN</td>\n",
       "      <td>False</td>\n",
       "      <td>True</td>\n",
       "      <td>TheFive Trump2020 KAG2020 mondaythoughts COVID...</td>\n",
       "      <td>new_zealand</td>\n",
       "      <td>Very interesting\\nAny thoughts?\\n\\n#TheFive #T...</td>\n",
       "      <td>https://twitter.com/Franck2Ausa/status/1287847...</td>\n",
       "    </tr>\n",
       "    <tr>\n",
       "      <th>239997</th>\n",
       "      <td>239997</td>\n",
       "      <td>As we deal with #COVID19 don't forget that #Ch...</td>\n",
       "      <td>NaN</td>\n",
       "      <td>True</td>\n",
       "      <td>True</td>\n",
       "      <td>COVID19 Christians persecution Nigeria</td>\n",
       "      <td>new_zealand</td>\n",
       "      <td>As we deal with #COVID19 don't forget that #Ch...</td>\n",
       "      <td>https://twitter.com/psjuk_official/status/1253...</td>\n",
       "    </tr>\n",
       "    <tr>\n",
       "      <th>239998</th>\n",
       "      <td>239998</td>\n",
       "      <td>While we hit 150,000 in #COVID19 deaths, the P...</td>\n",
       "      <td>NaN</td>\n",
       "      <td>False</td>\n",
       "      <td>True</td>\n",
       "      <td>COVID19</td>\n",
       "      <td>new_zealand</td>\n",
       "      <td>While we hit 150,000 in #COVID19 deaths, the P...</td>\n",
       "      <td>NaN</td>\n",
       "    </tr>\n",
       "    <tr>\n",
       "      <th>239999</th>\n",
       "      <td>239999</td>\n",
       "      <td>This too shall pass #Covid_19 . May remain sta...</td>\n",
       "      <td>NaN</td>\n",
       "      <td>False</td>\n",
       "      <td>True</td>\n",
       "      <td>Covid_19 HopeAlive</td>\n",
       "      <td>new_zealand</td>\n",
       "      <td>This too shall pass #Covid_19 . May remain sta...</td>\n",
       "      <td>https://www.youtube.com/watch?v=pQc1CTt48XI&amp;fe...</td>\n",
       "    </tr>\n",
       "  </tbody>\n",
       "</table>\n",
       "<p>240000 rows × 9 columns</p>\n",
       "</div>"
      ],
      "text/plain": [
       "        Unnamed: 0                                               text  \\\n",
       "0                0  Remember the #WuhanCoronaVirus? The pandemic w...   \n",
       "1                1  My sources @WhiteHouse say 2 tactics will be u...   \n",
       "2                2  I'll venture a wild guess: If you were running...   \n",
       "3                3  #Pakistan (#GreenStimulus = #Nature protection...   \n",
       "4                4  🇺🇸 Pandémie de #coronavirus: 30 pasteurs améri...   \n",
       "...            ...                                                ...   \n",
       "239995      239995          Aa Likes, Retweets yentra 🙏\\n🔥🔥🔥\\n#Mastеr   \n",
       "239996      239996  Very interesting\\nAny thoughts?\\n\\n#TheFive #T...   \n",
       "239997      239997  As we deal with #COVID19 don't forget that #Ch...   \n",
       "239998      239998  While we hit 150,000 in #COVID19 deaths, the P...   \n",
       "239999      239999  This too shall pass #Covid_19 . May remain sta...   \n",
       "\n",
       "       reply_to_screen_name is_quote is_retweet  \\\n",
       "0                       NaN    False       True   \n",
       "1                       NaN    False       True   \n",
       "2                       NaN    False       True   \n",
       "3                       NaN    False       True   \n",
       "4                       NaN    False       True   \n",
       "...                     ...      ...        ...   \n",
       "239995                  NaN     True       True   \n",
       "239996                  NaN    False       True   \n",
       "239997                  NaN     True       True   \n",
       "239998                  NaN    False       True   \n",
       "239999                  NaN    False       True   \n",
       "\n",
       "                                                 hashtags      country  \\\n",
       "0                            WuhanCoronaVirus KillerCuomo           us   \n",
       "1                                                   Trump           us   \n",
       "2                                                 COVID19           us   \n",
       "3                     Pakistan GreenStimulus Nature Green           us   \n",
       "4                          coronavirus COVID__19 COVIDー19           us   \n",
       "...                                                   ...          ...   \n",
       "239995                                             Mastеr  new_zealand   \n",
       "239996  TheFive Trump2020 KAG2020 mondaythoughts COVID...  new_zealand   \n",
       "239997             COVID19 Christians persecution Nigeria  new_zealand   \n",
       "239998                                            COVID19  new_zealand   \n",
       "239999                                 Covid_19 HopeAlive  new_zealand   \n",
       "\n",
       "                                         all_english_text  \\\n",
       "0       Remember the #WuhanCoronaVirus? The pandemic w...   \n",
       "1       My sources @WhiteHouse say 2 tactics will be u...   \n",
       "2       I'll venture a wild guess: If you were running...   \n",
       "3       #Pakistan (#GreenStimulus = #Nature protection...   \n",
       "4       🇺🇸 Pandemic of #Coronavirus: 30 American pasto...   \n",
       "...                                                   ...   \n",
       "239995          Aa Likes, Retweets yentra 🙏\\n🔥🔥🔥\\n#Mastеr   \n",
       "239996  Very interesting\\nAny thoughts?\\n\\n#TheFive #T...   \n",
       "239997  As we deal with #COVID19 don't forget that #Ch...   \n",
       "239998  While we hit 150,000 in #COVID19 deaths, the P...   \n",
       "239999  This too shall pass #Covid_19 . May remain sta...   \n",
       "\n",
       "                                            expanded_urls  \n",
       "0                                                     NaN  \n",
       "1                                                     NaN  \n",
       "2       https://www.science.org/content/article/new-wh...  \n",
       "3       https://news.trust.org/item/20200717070925-r4m...  \n",
       "4                                                     NaN  \n",
       "...                                                   ...  \n",
       "239995                                                NaN  \n",
       "239996  https://twitter.com/Franck2Ausa/status/1287847...  \n",
       "239997  https://twitter.com/psjuk_official/status/1253...  \n",
       "239998                                                NaN  \n",
       "239999  https://www.youtube.com/watch?v=pQc1CTt48XI&fe...  \n",
       "\n",
       "[240000 rows x 9 columns]"
      ]
     },
     "execution_count": 5,
     "metadata": {},
     "output_type": "execute_result"
    }
   ],
   "source": [
    "training_df = pd.read_csv(r\"C:/Users/Thomas/Desktop/training_data_new.csv\")\n",
    "training_df"
   ]
  },
  {
   "cell_type": "code",
   "execution_count": 6,
   "metadata": {},
   "outputs": [
    {
     "data": {
      "text/html": [
       "<div>\n",
       "<style scoped>\n",
       "    .dataframe tbody tr th:only-of-type {\n",
       "        vertical-align: middle;\n",
       "    }\n",
       "\n",
       "    .dataframe tbody tr th {\n",
       "        vertical-align: top;\n",
       "    }\n",
       "\n",
       "    .dataframe thead th {\n",
       "        text-align: right;\n",
       "    }\n",
       "</style>\n",
       "<table border=\"1\" class=\"dataframe\">\n",
       "  <thead>\n",
       "    <tr style=\"text-align: right;\">\n",
       "      <th></th>\n",
       "      <th>Unnamed: 0</th>\n",
       "      <th>text</th>\n",
       "      <th>reply_to_screen_name</th>\n",
       "      <th>is_quote</th>\n",
       "      <th>is_retweet</th>\n",
       "      <th>hashtags</th>\n",
       "      <th>Id</th>\n",
       "      <th>expanded_urls</th>\n",
       "      <th>all_english_text</th>\n",
       "    </tr>\n",
       "  </thead>\n",
       "  <tbody>\n",
       "    <tr>\n",
       "      <th>0</th>\n",
       "      <td>0</td>\n",
       "      <td>Ethical investing is not optional anymore, say...</td>\n",
       "      <td>NaN</td>\n",
       "      <td>False</td>\n",
       "      <td>False</td>\n",
       "      <td>covid19</td>\n",
       "      <td>0</td>\n",
       "      <td>https://www.podbean.com/media/share/pb-uba6x-d...</td>\n",
       "      <td>Ethical investing is not optional anymore, say...</td>\n",
       "    </tr>\n",
       "    <tr>\n",
       "      <th>1</th>\n",
       "      <td>1</td>\n",
       "      <td>#COVID19 | Suite à la conférence de presse du ...</td>\n",
       "      <td>NaN</td>\n",
       "      <td>False</td>\n",
       "      <td>True</td>\n",
       "      <td>COVID19</td>\n",
       "      <td>1</td>\n",
       "      <td>https://twitter.com/gouvernementFR/status/1332...</td>\n",
       "      <td>#COVID19 | Following the Prime Minister's pres...</td>\n",
       "    </tr>\n",
       "    <tr>\n",
       "      <th>2</th>\n",
       "      <td>2</td>\n",
       "      <td>Yesterday, I had a live discussion with @Steve...</td>\n",
       "      <td>NaN</td>\n",
       "      <td>False</td>\n",
       "      <td>True</td>\n",
       "      <td>COVID19</td>\n",
       "      <td>2</td>\n",
       "      <td>https://www.cnn.com/world/live-news/coronaviru...</td>\n",
       "      <td>Yesterday, I had a live discussion with @Steve...</td>\n",
       "    </tr>\n",
       "    <tr>\n",
       "      <th>3</th>\n",
       "      <td>3</td>\n",
       "      <td>Nepal - #Coronavirus cases up 24% in a week. D...</td>\n",
       "      <td>NaN</td>\n",
       "      <td>False</td>\n",
       "      <td>True</td>\n",
       "      <td>Coronavirus</td>\n",
       "      <td>3</td>\n",
       "      <td>https://flutrackers.com/forum/forum/-2019-ncov...</td>\n",
       "      <td>Nepal - #Coronavirus cases up 24% in a week. D...</td>\n",
       "    </tr>\n",
       "    <tr>\n",
       "      <th>4</th>\n",
       "      <td>4</td>\n",
       "      <td>American economy jumped up a %  big news story...</td>\n",
       "      <td>NaN</td>\n",
       "      <td>False</td>\n",
       "      <td>False</td>\n",
       "      <td>LysolAndCloroxSales</td>\n",
       "      <td>4</td>\n",
       "      <td>NaN</td>\n",
       "      <td>American economy jumped up a %  big news story...</td>\n",
       "    </tr>\n",
       "    <tr>\n",
       "      <th>...</th>\n",
       "      <td>...</td>\n",
       "      <td>...</td>\n",
       "      <td>...</td>\n",
       "      <td>...</td>\n",
       "      <td>...</td>\n",
       "      <td>...</td>\n",
       "      <td>...</td>\n",
       "      <td>...</td>\n",
       "      <td>...</td>\n",
       "    </tr>\n",
       "    <tr>\n",
       "      <th>59995</th>\n",
       "      <td>59995</td>\n",
       "      <td>Who knew all we had to do was eat a tenner’s w...</td>\n",
       "      <td>NaN</td>\n",
       "      <td>False</td>\n",
       "      <td>True</td>\n",
       "      <td>Covid19</td>\n",
       "      <td>59995</td>\n",
       "      <td>https://twitter.com/ShaneBeattyNews/status/127...</td>\n",
       "      <td>Who knew all we had to do was eat a tenner’s w...</td>\n",
       "    </tr>\n",
       "    <tr>\n",
       "      <th>59996</th>\n",
       "      <td>59996</td>\n",
       "      <td>Our death toll of more than 160,000 souls tell...</td>\n",
       "      <td>NaN</td>\n",
       "      <td>False</td>\n",
       "      <td>True</td>\n",
       "      <td>coronavirus</td>\n",
       "      <td>59996</td>\n",
       "      <td>https://twitter.com/TeamPelosi/status/12919060...</td>\n",
       "      <td>Our death toll of more than 160,000 souls tell...</td>\n",
       "    </tr>\n",
       "    <tr>\n",
       "      <th>59997</th>\n",
       "      <td>59997</td>\n",
       "      <td>Apparently, Donald Trump doesn't care about Am...</td>\n",
       "      <td>NaN</td>\n",
       "      <td>False</td>\n",
       "      <td>True</td>\n",
       "      <td>COVID19</td>\n",
       "      <td>59997</td>\n",
       "      <td>NaN</td>\n",
       "      <td>Apparently, Donald Trump doesn't care about Am...</td>\n",
       "    </tr>\n",
       "    <tr>\n",
       "      <th>59998</th>\n",
       "      <td>59998</td>\n",
       "      <td>Is #HulaHooping the perfect #SocialDistancing ...</td>\n",
       "      <td>NaN</td>\n",
       "      <td>False</td>\n",
       "      <td>False</td>\n",
       "      <td>HulaHooping SocialDistancing London</td>\n",
       "      <td>59998</td>\n",
       "      <td>https://www.swlondoner.co.uk/life/08072020-hul...</td>\n",
       "      <td>Is #HulaHooping the perfect #SocialDistancing ...</td>\n",
       "    </tr>\n",
       "    <tr>\n",
       "      <th>59999</th>\n",
       "      <td>59999</td>\n",
       "      <td>Leaving the #WHO is a monumentally stupid deci...</td>\n",
       "      <td>NaN</td>\n",
       "      <td>True</td>\n",
       "      <td>True</td>\n",
       "      <td>WHO</td>\n",
       "      <td>59999</td>\n",
       "      <td>NaN</td>\n",
       "      <td>Leaving the #WHO is a monumentally stupid deci...</td>\n",
       "    </tr>\n",
       "  </tbody>\n",
       "</table>\n",
       "<p>60000 rows × 9 columns</p>\n",
       "</div>"
      ],
      "text/plain": [
       "       Unnamed: 0                                               text  \\\n",
       "0               0  Ethical investing is not optional anymore, say...   \n",
       "1               1  #COVID19 | Suite à la conférence de presse du ...   \n",
       "2               2  Yesterday, I had a live discussion with @Steve...   \n",
       "3               3  Nepal - #Coronavirus cases up 24% in a week. D...   \n",
       "4               4  American economy jumped up a %  big news story...   \n",
       "...           ...                                                ...   \n",
       "59995       59995  Who knew all we had to do was eat a tenner’s w...   \n",
       "59996       59996  Our death toll of more than 160,000 souls tell...   \n",
       "59997       59997  Apparently, Donald Trump doesn't care about Am...   \n",
       "59998       59998  Is #HulaHooping the perfect #SocialDistancing ...   \n",
       "59999       59999  Leaving the #WHO is a monumentally stupid deci...   \n",
       "\n",
       "      reply_to_screen_name  is_quote  is_retweet  \\\n",
       "0                      NaN     False       False   \n",
       "1                      NaN     False        True   \n",
       "2                      NaN     False        True   \n",
       "3                      NaN     False        True   \n",
       "4                      NaN     False       False   \n",
       "...                    ...       ...         ...   \n",
       "59995                  NaN     False        True   \n",
       "59996                  NaN     False        True   \n",
       "59997                  NaN     False        True   \n",
       "59998                  NaN     False       False   \n",
       "59999                  NaN      True        True   \n",
       "\n",
       "                                  hashtags     Id  \\\n",
       "0                                  covid19      0   \n",
       "1                                  COVID19      1   \n",
       "2                                  COVID19      2   \n",
       "3                              Coronavirus      3   \n",
       "4                      LysolAndCloroxSales      4   \n",
       "...                                    ...    ...   \n",
       "59995                              Covid19  59995   \n",
       "59996                          coronavirus  59996   \n",
       "59997                              COVID19  59997   \n",
       "59998  HulaHooping SocialDistancing London  59998   \n",
       "59999                                  WHO  59999   \n",
       "\n",
       "                                           expanded_urls  \\\n",
       "0      https://www.podbean.com/media/share/pb-uba6x-d...   \n",
       "1      https://twitter.com/gouvernementFR/status/1332...   \n",
       "2      https://www.cnn.com/world/live-news/coronaviru...   \n",
       "3      https://flutrackers.com/forum/forum/-2019-ncov...   \n",
       "4                                                    NaN   \n",
       "...                                                  ...   \n",
       "59995  https://twitter.com/ShaneBeattyNews/status/127...   \n",
       "59996  https://twitter.com/TeamPelosi/status/12919060...   \n",
       "59997                                                NaN   \n",
       "59998  https://www.swlondoner.co.uk/life/08072020-hul...   \n",
       "59999                                                NaN   \n",
       "\n",
       "                                        all_english_text  \n",
       "0      Ethical investing is not optional anymore, say...  \n",
       "1      #COVID19 | Following the Prime Minister's pres...  \n",
       "2      Yesterday, I had a live discussion with @Steve...  \n",
       "3      Nepal - #Coronavirus cases up 24% in a week. D...  \n",
       "4      American economy jumped up a %  big news story...  \n",
       "...                                                  ...  \n",
       "59995  Who knew all we had to do was eat a tenner’s w...  \n",
       "59996  Our death toll of more than 160,000 souls tell...  \n",
       "59997  Apparently, Donald Trump doesn't care about Am...  \n",
       "59998  Is #HulaHooping the perfect #SocialDistancing ...  \n",
       "59999  Leaving the #WHO is a monumentally stupid deci...  \n",
       "\n",
       "[60000 rows x 9 columns]"
      ]
     },
     "execution_count": 6,
     "metadata": {},
     "output_type": "execute_result"
    }
   ],
   "source": [
    "test_df = pd.read_csv(r\"C:/Users/Thomas/Desktop/test_data_new.csv\")\n",
    "test_df"
   ]
  },
  {
   "cell_type": "markdown",
   "metadata": {},
   "source": [
    "### This code will be used to add a translations column to the data."
   ]
  },
  {
   "cell_type": "code",
   "execution_count": 5,
   "metadata": {},
   "outputs": [],
   "source": [
    "#https://towardsdatascience.com/twitter-json-data-processing-3f353a5deac4\n",
    "#https://towardsdatascience.com/how-to-detect-and-translate-languages-for-nlp-project-dfd52af0c3b5\n",
    "\n",
    "\n",
    "# tweets_en = []\n",
    "\n",
    "# def new_col_translated(data, target_lang):\n",
    "#     for tweet in  tqdm(data.text):\n",
    "\n",
    "#         try: #english tweets\n",
    "            \n",
    "#             result_lang = detect(tweet)\n",
    "#             if result_lang == target_lang:\n",
    "#                 tweets_en.append(tweet) \n",
    "\n",
    "#             else: #other language tweets\n",
    "\n",
    "#                 ############API does not work############\n",
    "#                 # translator = google_translator()\n",
    "#                 # translate_text = translator.translate(tweet, lang_src=result_lang, lang_tgt=target_lang) \n",
    "#                 ############API does not work############\n",
    "\n",
    "#                 translate_text = ts.google(tweet, from_language= result_lang, to_language=target_lang)\n",
    "#                 tweets_en.append(translate_text) \n",
    "\n",
    "#         except: #unable to translate\n",
    "#             tweets_en.append(tweet)\n",
    "\n",
    "# new_col_translated(data_test, \"en\")\n",
    "# data_test['all_english_text'] = np.array(tweets_en) #load into dataframe"
   ]
  },
  {
   "cell_type": "markdown",
   "metadata": {},
   "source": [
    "## Part I: Descriptive Analysis - A"
   ]
  },
  {
   "cell_type": "markdown",
   "metadata": {},
   "source": [
    "Create a table that contains information on minimum, average, median, and maximum for the following: tweet length (#characters and #words) (text column), hashtag length (#characters and #words) (hashtags column) (Add your table to the report at the end.) (10 points for undergraduate students, 5 points for graduate students)"
   ]
  },
  {
   "cell_type": "markdown",
   "metadata": {},
   "source": [
    "#### Characters"
   ]
  },
  {
   "cell_type": "code",
   "execution_count": 6,
   "metadata": {},
   "outputs": [
    {
     "data": {
      "text/plain": [
       "204.98047916666667"
      ]
     },
     "execution_count": 6,
     "metadata": {},
     "output_type": "execute_result"
    }
   ],
   "source": [
    "#Calculate the AVERAGE length of tweets (Characters)\n",
    "def tweet_len_char_avg(data):\n",
    "    lenghts = []\n",
    "    for i in data:\n",
    "        lenghts.append(len(i))\n",
    "    return sum(lenghts)/len(data)\n",
    "tweet_len_char_avg(training_df.text)"
   ]
  },
  {
   "cell_type": "code",
   "execution_count": 7,
   "metadata": {},
   "outputs": [
    {
     "data": {
      "text/plain": [
       "425"
      ]
     },
     "execution_count": 7,
     "metadata": {},
     "output_type": "execute_result"
    }
   ],
   "source": [
    "#Calculate the MAX length of tweets (Characters)\n",
    "def tweet_len_char_max(data):\n",
    "    lenghts = []\n",
    "    for i in data:\n",
    "        lenghts.append(len(i))\n",
    "    return max(lenghts)\n",
    "tweet_len_char_max(training_df.text)"
   ]
  },
  {
   "cell_type": "code",
   "execution_count": 8,
   "metadata": {},
   "outputs": [
    {
     "data": {
      "text/plain": [
       "1"
      ]
     },
     "execution_count": 8,
     "metadata": {},
     "output_type": "execute_result"
    }
   ],
   "source": [
    "#Calculate the MIN length of tweets (Characters)\n",
    "def tweet_len_char_min(data):\n",
    "    lenghts = []\n",
    "    for i in data:\n",
    "        lenghts.append(len(i))\n",
    "    return min(lenghts)\n",
    "tweet_len_char_min(training_df.text)"
   ]
  },
  {
   "cell_type": "code",
   "execution_count": 9,
   "metadata": {},
   "outputs": [
    {
     "data": {
      "text/plain": [
       "221.0"
      ]
     },
     "execution_count": 9,
     "metadata": {},
     "output_type": "execute_result"
    }
   ],
   "source": [
    "#Calculate the MEDIAN length of tweets (Characters)\n",
    "def tweet_len_char_median(data):\n",
    "    lenghts = []\n",
    "    for i in data:\n",
    "        lenghts.append(len(i))\n",
    "    return np.median(lenghts)\n",
    "tweet_len_char_median(training_df.text)"
   ]
  },
  {
   "cell_type": "markdown",
   "metadata": {},
   "source": [
    "#### Words"
   ]
  },
  {
   "cell_type": "code",
   "execution_count": 10,
   "metadata": {},
   "outputs": [
    {
     "data": {
      "text/plain": [
       "28.832408333333333"
      ]
     },
     "execution_count": 10,
     "metadata": {},
     "output_type": "execute_result"
    }
   ],
   "source": [
    "#Calculate the AVERAGE number of words\n",
    "def tweet_len_words_avg(data):\n",
    "    word_count = []\n",
    "    for i in data:\n",
    "        word_count.append(len(i.split()))\n",
    "    return sum(word_count)/len(data)\n",
    "tweet_len_words_avg(training_df.text)"
   ]
  },
  {
   "cell_type": "code",
   "execution_count": 11,
   "metadata": {},
   "outputs": [
    {
     "data": {
      "text/plain": [
       "1"
      ]
     },
     "execution_count": 11,
     "metadata": {},
     "output_type": "execute_result"
    }
   ],
   "source": [
    "#Calculate the MIN number of Words in tweets\n",
    "def tweet_len_words_min(data):\n",
    "    word_count = []\n",
    "    for i in data:\n",
    "        word_count.append(len(i.split()))\n",
    "    return min(word_count)\n",
    "tweet_len_words_min(training_df.text)"
   ]
  },
  {
   "cell_type": "code",
   "execution_count": 12,
   "metadata": {},
   "outputs": [
    {
     "data": {
      "text/plain": [
       "82"
      ]
     },
     "execution_count": 12,
     "metadata": {},
     "output_type": "execute_result"
    }
   ],
   "source": [
    "#Calculate the MAX number of Words in tweets\n",
    "def tweet_len_words_max(data):\n",
    "    word_count = []\n",
    "    for i in data:\n",
    "        word_count.append(len(i.split()))\n",
    "    return max(word_count)\n",
    "tweet_len_words_max(training_df.text)"
   ]
  },
  {
   "cell_type": "code",
   "execution_count": 13,
   "metadata": {},
   "outputs": [
    {
     "data": {
      "text/plain": [
       "30.0"
      ]
     },
     "execution_count": 13,
     "metadata": {},
     "output_type": "execute_result"
    }
   ],
   "source": [
    "#Calculate the MEDIAN number of Words in tweets\n",
    "def tweet_len_words_max(data):\n",
    "    word_count = []\n",
    "    for i in data:\n",
    "        word_count.append(len(i.split()))\n",
    "    return np.median(word_count)\n",
    "tweet_len_words_max(training_df.text)"
   ]
  },
  {
   "cell_type": "markdown",
   "metadata": {},
   "source": [
    "#### HASHTHAG COL"
   ]
  },
  {
   "cell_type": "code",
   "execution_count": 14,
   "metadata": {},
   "outputs": [
    {
     "data": {
      "text/plain": [
       "16.503920833333332"
      ]
     },
     "execution_count": 14,
     "metadata": {},
     "output_type": "execute_result"
    }
   ],
   "source": [
    "#Calculate the AVERAGE length of hashtags (Characters)\n",
    "def hashtag_len_char_avg(data):\n",
    "    lenghts = []\n",
    "    for i in data:\n",
    "        lenghts.append(len(i))\n",
    "    return sum(lenghts)/len(data)\n",
    "hashtag_len_char_avg(training_df.hashtags)"
   ]
  },
  {
   "cell_type": "code",
   "execution_count": 15,
   "metadata": {},
   "outputs": [
    {
     "data": {
      "text/plain": [
       "1"
      ]
     },
     "execution_count": 15,
     "metadata": {},
     "output_type": "execute_result"
    }
   ],
   "source": [
    "#Calculate the MIN length of hashtags (Characters)\n",
    "def hashtag_len_char_min(data):\n",
    "    lenghts = []\n",
    "    for i in data:\n",
    "        lenghts.append(len(i))\n",
    "    return min(lenghts)\n",
    "hashtag_len_char_min(training_df.hashtags)"
   ]
  },
  {
   "cell_type": "code",
   "execution_count": 16,
   "metadata": {},
   "outputs": [
    {
     "data": {
      "text/plain": [
       "124"
      ]
     },
     "execution_count": 16,
     "metadata": {},
     "output_type": "execute_result"
    }
   ],
   "source": [
    "#Calculate the MAX length of hashtags (Characters)\n",
    "def hashtag_len_char_max(data):\n",
    "    lenghts = []\n",
    "    for i in data:\n",
    "        lenghts.append(len(i))\n",
    "    return max(lenghts)\n",
    "hashtag_len_char_max(training_df.hashtags)"
   ]
  },
  {
   "cell_type": "code",
   "execution_count": 17,
   "metadata": {},
   "outputs": [
    {
     "data": {
      "text/plain": [
       "11.0"
      ]
     },
     "execution_count": 17,
     "metadata": {},
     "output_type": "execute_result"
    }
   ],
   "source": [
    "#Calculate the MEDIAN length of hashtags (Characters)\n",
    "def hashtag_len_char_median(data):\n",
    "    lenghts = []\n",
    "    for i in data:\n",
    "        lenghts.append(len(i))\n",
    "    return np.median(lenghts)\n",
    "hashtag_len_char_median(training_df.hashtags)"
   ]
  },
  {
   "cell_type": "code",
   "execution_count": 18,
   "metadata": {},
   "outputs": [
    {
     "data": {
      "text/plain": [
       "1.8100708333333333"
      ]
     },
     "execution_count": 18,
     "metadata": {},
     "output_type": "execute_result"
    }
   ],
   "source": [
    "#Calculate the AVERAGE number of hashtags\n",
    "def hashtags_len_words_avg(data):\n",
    "    word_count = []\n",
    "    for i in data:\n",
    "        word_count.append(len(i.split()))\n",
    "    return sum(word_count)/len(data)\n",
    "hashtags_len_words_avg(training_df.hashtags)"
   ]
  },
  {
   "cell_type": "code",
   "execution_count": 19,
   "metadata": {},
   "outputs": [
    {
     "data": {
      "text/plain": [
       "1"
      ]
     },
     "execution_count": 19,
     "metadata": {},
     "output_type": "execute_result"
    }
   ],
   "source": [
    "#Calculate the MIN number of hashtags\n",
    "def hashtags_len_words_min(data):\n",
    "    word_count = []\n",
    "    for i in data:\n",
    "        word_count.append(len(i.split()))\n",
    "    return min(word_count)\n",
    "hashtags_len_words_min(training_df.hashtags)"
   ]
  },
  {
   "cell_type": "code",
   "execution_count": 20,
   "metadata": {},
   "outputs": [
    {
     "data": {
      "text/plain": [
       "20"
      ]
     },
     "execution_count": 20,
     "metadata": {},
     "output_type": "execute_result"
    }
   ],
   "source": [
    "#Calculate the MAX number of hashtags\n",
    "def hashtags_len_words_max(data):\n",
    "    word_count = []\n",
    "    for i in data:\n",
    "        word_count.append(len(i.split()))\n",
    "    return max(word_count)\n",
    "hashtags_len_words_max(training_df.hashtags)"
   ]
  },
  {
   "cell_type": "code",
   "execution_count": 21,
   "metadata": {},
   "outputs": [
    {
     "data": {
      "text/plain": [
       "1.0"
      ]
     },
     "execution_count": 21,
     "metadata": {},
     "output_type": "execute_result"
    }
   ],
   "source": [
    "#Calculate the MEDIAN number of hashtags\n",
    "def hashtags_len_words_median(data):\n",
    "    word_count = []\n",
    "    for i in data:\n",
    "        word_count.append(len(i.split()))\n",
    "    return np.median(word_count)\n",
    "hashtags_len_words_median(training_df.hashtags)"
   ]
  },
  {
   "cell_type": "markdown",
   "metadata": {},
   "source": [
    "## Part I: Descriptive Analysis - B\n",
    "\n",
    "Find the top ten most commonly used hashtags (hashtags column) in the training dataset by\n",
    "calculating the frequency. Then, create a stacked bar chart (one stacked bar per country) which\n",
    "shows the distribution of these ten most commonly used hashtags for each country. Do you\n",
    "observe any patterns? Write your findings in the report. (Add the stacked bar chart to the report\n",
    "at the end.) (10 points for undergraduate students, 5 points for graduate students)\n"
   ]
  },
  {
   "cell_type": "code",
   "execution_count": 22,
   "metadata": {},
   "outputs": [
    {
     "data": {
      "text/html": [
       "<div>\n",
       "<style scoped>\n",
       "    .dataframe tbody tr th:only-of-type {\n",
       "        vertical-align: middle;\n",
       "    }\n",
       "\n",
       "    .dataframe tbody tr th {\n",
       "        vertical-align: top;\n",
       "    }\n",
       "\n",
       "    .dataframe thead th {\n",
       "        text-align: right;\n",
       "    }\n",
       "</style>\n",
       "<table border=\"1\" class=\"dataframe\">\n",
       "  <thead>\n",
       "    <tr style=\"text-align: right;\">\n",
       "      <th></th>\n",
       "      <th>Country</th>\n",
       "      <th>Hashtag</th>\n",
       "    </tr>\n",
       "  </thead>\n",
       "  <tbody>\n",
       "    <tr>\n",
       "      <th>0</th>\n",
       "      <td>us</td>\n",
       "      <td>WuhanCoronaVirus</td>\n",
       "    </tr>\n",
       "    <tr>\n",
       "      <th>1</th>\n",
       "      <td>us</td>\n",
       "      <td>KillerCuomo</td>\n",
       "    </tr>\n",
       "    <tr>\n",
       "      <th>2</th>\n",
       "      <td>us</td>\n",
       "      <td>Trump</td>\n",
       "    </tr>\n",
       "    <tr>\n",
       "      <th>3</th>\n",
       "      <td>us</td>\n",
       "      <td>COVID19</td>\n",
       "    </tr>\n",
       "    <tr>\n",
       "      <th>4</th>\n",
       "      <td>us</td>\n",
       "      <td>Pakistan</td>\n",
       "    </tr>\n",
       "    <tr>\n",
       "      <th>5</th>\n",
       "      <td>us</td>\n",
       "      <td>GreenStimulus</td>\n",
       "    </tr>\n",
       "    <tr>\n",
       "      <th>6</th>\n",
       "      <td>us</td>\n",
       "      <td>Nature</td>\n",
       "    </tr>\n",
       "    <tr>\n",
       "      <th>7</th>\n",
       "      <td>us</td>\n",
       "      <td>Green</td>\n",
       "    </tr>\n",
       "    <tr>\n",
       "      <th>8</th>\n",
       "      <td>us</td>\n",
       "      <td>coronavirus</td>\n",
       "    </tr>\n",
       "    <tr>\n",
       "      <th>9</th>\n",
       "      <td>us</td>\n",
       "      <td>COVID__19</td>\n",
       "    </tr>\n",
       "  </tbody>\n",
       "</table>\n",
       "</div>"
      ],
      "text/plain": [
       "  Country           Hashtag\n",
       "0      us  WuhanCoronaVirus\n",
       "1      us       KillerCuomo\n",
       "2      us             Trump\n",
       "3      us           COVID19\n",
       "4      us          Pakistan\n",
       "5      us     GreenStimulus\n",
       "6      us            Nature\n",
       "7      us             Green\n",
       "8      us       coronavirus\n",
       "9      us         COVID__19"
      ]
     },
     "execution_count": 22,
     "metadata": {},
     "output_type": "execute_result"
    }
   ],
   "source": [
    "hashtags_df = pd.DataFrame(training_df.hashtags.str.split(' ').tolist(),\n",
    "\t\t\t\t\t\tindex = training_df.country).stack()\n",
    "hashtags_df = hashtags_df.reset_index([0, 'country'])\n",
    "hashtags_df.columns = ['Country', 'Hashtag']\n",
    "\n",
    "hashtags_df[:10]"
   ]
  },
  {
   "cell_type": "code",
   "execution_count": 23,
   "metadata": {},
   "outputs": [
    {
     "data": {
      "text/plain": [
       "Index(['COVID19', 'coronavirus', 'Covid19', 'covid19', 'COVID', 'Coronavirus',\n",
       "       'Covid_19', 'COVIDー19', 'Covid', 'StaySafe'],\n",
       "      dtype='object')"
      ]
     },
     "execution_count": 23,
     "metadata": {},
     "output_type": "execute_result"
    }
   ],
   "source": [
    "topTenHashtags = hashtags_df['Hashtag'].value_counts()[:10].index\n",
    "topTenHashtags"
   ]
  },
  {
   "cell_type": "code",
   "execution_count": 24,
   "metadata": {},
   "outputs": [
    {
     "data": {
      "text/html": [
       "<div>\n",
       "<style scoped>\n",
       "    .dataframe tbody tr th:only-of-type {\n",
       "        vertical-align: middle;\n",
       "    }\n",
       "\n",
       "    .dataframe tbody tr th {\n",
       "        vertical-align: top;\n",
       "    }\n",
       "\n",
       "    .dataframe thead th {\n",
       "        text-align: right;\n",
       "    }\n",
       "</style>\n",
       "<table border=\"1\" class=\"dataframe\">\n",
       "  <thead>\n",
       "    <tr style=\"text-align: right;\">\n",
       "      <th>Hashtag</th>\n",
       "      <th>02JUL20</th>\n",
       "      <th>0613FM_0509</th>\n",
       "      <th>06strong</th>\n",
       "      <th>1-Jun</th>\n",
       "      <th>10-Jul</th>\n",
       "      <th>10-Jun</th>\n",
       "      <th>1000families</th>\n",
       "      <th>1000islands</th>\n",
       "      <th>1000lives</th>\n",
       "      <th>1000names</th>\n",
       "      <th>...</th>\n",
       "      <th>𝐛𝐫𝐞𝐚𝐭𝐡𝐞</th>\n",
       "      <th>𝐟𝐚𝐜𝐞𝐦𝐚𝐬𝐤𝐬</th>\n",
       "      <th>𝐟𝐚𝐜𝐞𝐬𝐡𝐢𝐞𝐥𝐝𝐬</th>\n",
       "      <th>𝐟𝐚𝐢𝐧𝐭</th>\n",
       "      <th>𝐨𝐱𝐲𝐠𝐞𝐧</th>\n",
       "      <th>𝑁𝑎𝑡𝑖𝑜𝑛𝑠𝑈𝑛𝑖𝑡𝑒𝑑</th>\n",
       "      <th>𝒟𝒾𝑒𝒷𝒪37</th>\n",
       "      <th>𝔊𝕯𝔏𝔈</th>\n",
       "      <th>𝗠𝗬𝗠</th>\n",
       "      <th>𝗦𝗢𝗟𝗗</th>\n",
       "    </tr>\n",
       "    <tr>\n",
       "      <th>Country</th>\n",
       "      <th></th>\n",
       "      <th></th>\n",
       "      <th></th>\n",
       "      <th></th>\n",
       "      <th></th>\n",
       "      <th></th>\n",
       "      <th></th>\n",
       "      <th></th>\n",
       "      <th></th>\n",
       "      <th></th>\n",
       "      <th></th>\n",
       "      <th></th>\n",
       "      <th></th>\n",
       "      <th></th>\n",
       "      <th></th>\n",
       "      <th></th>\n",
       "      <th></th>\n",
       "      <th></th>\n",
       "      <th></th>\n",
       "      <th></th>\n",
       "      <th></th>\n",
       "    </tr>\n",
       "  </thead>\n",
       "  <tbody>\n",
       "    <tr>\n",
       "      <th>australia</th>\n",
       "      <td>0</td>\n",
       "      <td>0</td>\n",
       "      <td>0</td>\n",
       "      <td>0</td>\n",
       "      <td>0</td>\n",
       "      <td>0</td>\n",
       "      <td>0</td>\n",
       "      <td>0</td>\n",
       "      <td>0</td>\n",
       "      <td>0</td>\n",
       "      <td>...</td>\n",
       "      <td>0</td>\n",
       "      <td>0</td>\n",
       "      <td>0</td>\n",
       "      <td>0</td>\n",
       "      <td>0</td>\n",
       "      <td>1</td>\n",
       "      <td>0</td>\n",
       "      <td>0</td>\n",
       "      <td>0</td>\n",
       "      <td>0</td>\n",
       "    </tr>\n",
       "    <tr>\n",
       "      <th>canada</th>\n",
       "      <td>1</td>\n",
       "      <td>0</td>\n",
       "      <td>0</td>\n",
       "      <td>0</td>\n",
       "      <td>1</td>\n",
       "      <td>1</td>\n",
       "      <td>0</td>\n",
       "      <td>1</td>\n",
       "      <td>0</td>\n",
       "      <td>0</td>\n",
       "      <td>...</td>\n",
       "      <td>0</td>\n",
       "      <td>0</td>\n",
       "      <td>0</td>\n",
       "      <td>0</td>\n",
       "      <td>0</td>\n",
       "      <td>0</td>\n",
       "      <td>0</td>\n",
       "      <td>0</td>\n",
       "      <td>1</td>\n",
       "      <td>0</td>\n",
       "    </tr>\n",
       "    <tr>\n",
       "      <th>ireland</th>\n",
       "      <td>0</td>\n",
       "      <td>0</td>\n",
       "      <td>0</td>\n",
       "      <td>0</td>\n",
       "      <td>0</td>\n",
       "      <td>0</td>\n",
       "      <td>0</td>\n",
       "      <td>0</td>\n",
       "      <td>0</td>\n",
       "      <td>0</td>\n",
       "      <td>...</td>\n",
       "      <td>1</td>\n",
       "      <td>2</td>\n",
       "      <td>1</td>\n",
       "      <td>1</td>\n",
       "      <td>1</td>\n",
       "      <td>1</td>\n",
       "      <td>0</td>\n",
       "      <td>0</td>\n",
       "      <td>0</td>\n",
       "      <td>0</td>\n",
       "    </tr>\n",
       "    <tr>\n",
       "      <th>new_zealand</th>\n",
       "      <td>0</td>\n",
       "      <td>0</td>\n",
       "      <td>0</td>\n",
       "      <td>0</td>\n",
       "      <td>0</td>\n",
       "      <td>0</td>\n",
       "      <td>0</td>\n",
       "      <td>0</td>\n",
       "      <td>0</td>\n",
       "      <td>0</td>\n",
       "      <td>...</td>\n",
       "      <td>0</td>\n",
       "      <td>0</td>\n",
       "      <td>0</td>\n",
       "      <td>0</td>\n",
       "      <td>0</td>\n",
       "      <td>0</td>\n",
       "      <td>0</td>\n",
       "      <td>0</td>\n",
       "      <td>0</td>\n",
       "      <td>1</td>\n",
       "    </tr>\n",
       "    <tr>\n",
       "      <th>uk</th>\n",
       "      <td>0</td>\n",
       "      <td>0</td>\n",
       "      <td>0</td>\n",
       "      <td>1</td>\n",
       "      <td>0</td>\n",
       "      <td>0</td>\n",
       "      <td>1</td>\n",
       "      <td>0</td>\n",
       "      <td>1</td>\n",
       "      <td>1</td>\n",
       "      <td>...</td>\n",
       "      <td>0</td>\n",
       "      <td>0</td>\n",
       "      <td>0</td>\n",
       "      <td>0</td>\n",
       "      <td>0</td>\n",
       "      <td>0</td>\n",
       "      <td>1</td>\n",
       "      <td>2</td>\n",
       "      <td>0</td>\n",
       "      <td>0</td>\n",
       "    </tr>\n",
       "    <tr>\n",
       "      <th>us</th>\n",
       "      <td>0</td>\n",
       "      <td>1</td>\n",
       "      <td>1</td>\n",
       "      <td>0</td>\n",
       "      <td>0</td>\n",
       "      <td>0</td>\n",
       "      <td>0</td>\n",
       "      <td>0</td>\n",
       "      <td>0</td>\n",
       "      <td>0</td>\n",
       "      <td>...</td>\n",
       "      <td>0</td>\n",
       "      <td>0</td>\n",
       "      <td>0</td>\n",
       "      <td>0</td>\n",
       "      <td>0</td>\n",
       "      <td>1</td>\n",
       "      <td>0</td>\n",
       "      <td>0</td>\n",
       "      <td>0</td>\n",
       "      <td>0</td>\n",
       "    </tr>\n",
       "  </tbody>\n",
       "</table>\n",
       "<p>6 rows × 64237 columns</p>\n",
       "</div>"
      ],
      "text/plain": [
       "Hashtag      02JUL20  0613FM_0509  06strong  1-Jun  10-Jul  10-Jun  \\\n",
       "Country                                                              \n",
       "australia          0            0         0      0       0       0   \n",
       "canada             1            0         0      0       1       1   \n",
       "ireland            0            0         0      0       0       0   \n",
       "new_zealand        0            0         0      0       0       0   \n",
       "uk                 0            0         0      1       0       0   \n",
       "us                 0            1         1      0       0       0   \n",
       "\n",
       "Hashtag      1000families  1000islands  1000lives  1000names  ...  𝐛𝐫𝐞𝐚𝐭𝐡𝐞  \\\n",
       "Country                                                       ...            \n",
       "australia               0            0          0          0  ...        0   \n",
       "canada                  0            1          0          0  ...        0   \n",
       "ireland                 0            0          0          0  ...        1   \n",
       "new_zealand             0            0          0          0  ...        0   \n",
       "uk                      1            0          1          1  ...        0   \n",
       "us                      0            0          0          0  ...        0   \n",
       "\n",
       "Hashtag      𝐟𝐚𝐜𝐞𝐦𝐚𝐬𝐤𝐬  𝐟𝐚𝐜𝐞𝐬𝐡𝐢𝐞𝐥𝐝𝐬  𝐟𝐚𝐢𝐧𝐭  𝐨𝐱𝐲𝐠𝐞𝐧  𝑁𝑎𝑡𝑖𝑜𝑛𝑠𝑈𝑛𝑖𝑡𝑒𝑑  𝒟𝒾𝑒𝒷𝒪37  \\\n",
       "Country                                                                      \n",
       "australia            0            0      0       0              1        0   \n",
       "canada               0            0      0       0              0        0   \n",
       "ireland              2            1      1       1              1        0   \n",
       "new_zealand          0            0      0       0              0        0   \n",
       "uk                   0            0      0       0              0        1   \n",
       "us                   0            0      0       0              1        0   \n",
       "\n",
       "Hashtag      𝔊𝕯𝔏𝔈  𝗠𝗬𝗠  𝗦𝗢𝗟𝗗  \n",
       "Country                       \n",
       "australia       0    0     0  \n",
       "canada          0    1     0  \n",
       "ireland         0    0     0  \n",
       "new_zealand     0    0     1  \n",
       "uk              2    0     0  \n",
       "us              0    0     0  \n",
       "\n",
       "[6 rows x 64237 columns]"
      ]
     },
     "execution_count": 24,
     "metadata": {},
     "output_type": "execute_result"
    }
   ],
   "source": [
    "countryValues = pd.crosstab(index = hashtags_df['Country'], columns = hashtags_df['Hashtag'])\n",
    "countryValues"
   ]
  },
  {
   "cell_type": "code",
   "execution_count": 25,
   "metadata": {},
   "outputs": [
    {
     "data": {
      "text/html": [
       "<div>\n",
       "<style scoped>\n",
       "    .dataframe tbody tr th:only-of-type {\n",
       "        vertical-align: middle;\n",
       "    }\n",
       "\n",
       "    .dataframe tbody tr th {\n",
       "        vertical-align: top;\n",
       "    }\n",
       "\n",
       "    .dataframe thead th {\n",
       "        text-align: right;\n",
       "    }\n",
       "</style>\n",
       "<table border=\"1\" class=\"dataframe\">\n",
       "  <thead>\n",
       "    <tr style=\"text-align: right;\">\n",
       "      <th>Hashtag</th>\n",
       "      <th>COVID19</th>\n",
       "      <th>coronavirus</th>\n",
       "      <th>Covid19</th>\n",
       "      <th>covid19</th>\n",
       "      <th>COVID</th>\n",
       "      <th>Coronavirus</th>\n",
       "      <th>Covid_19</th>\n",
       "      <th>COVIDー19</th>\n",
       "      <th>Covid</th>\n",
       "      <th>StaySafe</th>\n",
       "    </tr>\n",
       "    <tr>\n",
       "      <th>Country</th>\n",
       "      <th></th>\n",
       "      <th></th>\n",
       "      <th></th>\n",
       "      <th></th>\n",
       "      <th></th>\n",
       "      <th></th>\n",
       "      <th></th>\n",
       "      <th></th>\n",
       "      <th></th>\n",
       "      <th></th>\n",
       "    </tr>\n",
       "  </thead>\n",
       "  <tbody>\n",
       "    <tr>\n",
       "      <th>australia</th>\n",
       "      <td>15268</td>\n",
       "      <td>4072</td>\n",
       "      <td>1522</td>\n",
       "      <td>2025</td>\n",
       "      <td>1575</td>\n",
       "      <td>987</td>\n",
       "      <td>1060</td>\n",
       "      <td>819</td>\n",
       "      <td>480</td>\n",
       "      <td>341</td>\n",
       "    </tr>\n",
       "    <tr>\n",
       "      <th>canada</th>\n",
       "      <td>15940</td>\n",
       "      <td>4172</td>\n",
       "      <td>1916</td>\n",
       "      <td>1629</td>\n",
       "      <td>1190</td>\n",
       "      <td>1174</td>\n",
       "      <td>1041</td>\n",
       "      <td>895</td>\n",
       "      <td>558</td>\n",
       "      <td>447</td>\n",
       "    </tr>\n",
       "    <tr>\n",
       "      <th>ireland</th>\n",
       "      <td>14535</td>\n",
       "      <td>3666</td>\n",
       "      <td>3812</td>\n",
       "      <td>1537</td>\n",
       "      <td>896</td>\n",
       "      <td>861</td>\n",
       "      <td>1386</td>\n",
       "      <td>959</td>\n",
       "      <td>705</td>\n",
       "      <td>1168</td>\n",
       "    </tr>\n",
       "    <tr>\n",
       "      <th>new_zealand</th>\n",
       "      <td>16680</td>\n",
       "      <td>3571</td>\n",
       "      <td>2303</td>\n",
       "      <td>1493</td>\n",
       "      <td>1764</td>\n",
       "      <td>1044</td>\n",
       "      <td>1158</td>\n",
       "      <td>1078</td>\n",
       "      <td>599</td>\n",
       "      <td>331</td>\n",
       "    </tr>\n",
       "    <tr>\n",
       "      <th>uk</th>\n",
       "      <td>13734</td>\n",
       "      <td>5292</td>\n",
       "      <td>2036</td>\n",
       "      <td>1454</td>\n",
       "      <td>1279</td>\n",
       "      <td>1375</td>\n",
       "      <td>1127</td>\n",
       "      <td>949</td>\n",
       "      <td>654</td>\n",
       "      <td>603</td>\n",
       "    </tr>\n",
       "    <tr>\n",
       "      <th>us</th>\n",
       "      <td>17054</td>\n",
       "      <td>4890</td>\n",
       "      <td>1053</td>\n",
       "      <td>1170</td>\n",
       "      <td>1795</td>\n",
       "      <td>1433</td>\n",
       "      <td>853</td>\n",
       "      <td>890</td>\n",
       "      <td>498</td>\n",
       "      <td>210</td>\n",
       "    </tr>\n",
       "  </tbody>\n",
       "</table>\n",
       "</div>"
      ],
      "text/plain": [
       "Hashtag      COVID19  coronavirus  Covid19  covid19  COVID  Coronavirus  \\\n",
       "Country                                                                   \n",
       "australia      15268         4072     1522     2025   1575          987   \n",
       "canada         15940         4172     1916     1629   1190         1174   \n",
       "ireland        14535         3666     3812     1537    896          861   \n",
       "new_zealand    16680         3571     2303     1493   1764         1044   \n",
       "uk             13734         5292     2036     1454   1279         1375   \n",
       "us             17054         4890     1053     1170   1795         1433   \n",
       "\n",
       "Hashtag      Covid_19  COVIDー19  Covid  StaySafe  \n",
       "Country                                           \n",
       "australia        1060       819    480       341  \n",
       "canada           1041       895    558       447  \n",
       "ireland          1386       959    705      1168  \n",
       "new_zealand      1158      1078    599       331  \n",
       "uk               1127       949    654       603  \n",
       "us                853       890    498       210  "
      ]
     },
     "execution_count": 25,
     "metadata": {},
     "output_type": "execute_result"
    }
   ],
   "source": [
    "countryTopTenValues = countryValues[topTenHashtags]\n",
    "countryTopTenValues"
   ]
  },
  {
   "cell_type": "code",
   "execution_count": 26,
   "metadata": {},
   "outputs": [
    {
     "name": "stderr",
     "output_type": "stream",
     "text": [
      "c:\\Users\\Thomas\\anaconda3\\lib\\site-packages\\matplotlib\\backends\\backend_agg.py:240: RuntimeWarning: Glyph 12540 missing from current font.\n",
      "  font.set_text(s, 0.0, flags=flags)\n",
      "c:\\Users\\Thomas\\anaconda3\\lib\\site-packages\\matplotlib\\backends\\backend_agg.py:203: RuntimeWarning: Glyph 12540 missing from current font.\n",
      "  font.set_text(s, 0, flags=flags)\n"
     ]
    },
    {
     "data": {
      "image/png": "[encoded data removed]",
      "text/plain": [
       "<Figure size 1500x1000 with 1 Axes>"
      ]
     },
     "metadata": {},
     "output_type": "display_data"
    }
   ],
   "source": [
    "countryTopTenValues.plot(kind = 'bar', \n",
    "\t\t\t\t\t\t stacked = True,\n",
    "\t\t\t\t\t\t figsize = (15,10))\n",
    "\n",
    "plt.legend(loc=\"lower right\", ncol=2)\n",
    "plt.ylabel(\"Count\")\n",
    "plt.title(\"Top Ten Hashtags by Country\")\n",
    "plt.show()"
   ]
  },
  {
   "cell_type": "markdown",
   "metadata": {},
   "source": [
    "## Part I: Descriptive Analysis - C\n",
    "\n",
    "Using the lda_tutorial.pdf file in the assignment folder, perform a Latent Dirichlet Allocation (LDA) analysis to extract the topics in the text column in an unsupervised manner. Set the number of clusters/topics to 10 (ten) (you can adjust other settings to obtain the results that you think work the best). What are your observations? Does each cluster seem to form a meaningful subset? What do they seem to represent? (Add the clusters and your observations to the report at the end.) (10 points for undergraduate students, 5 points for graduate students)\n",
    "\n",
    "### Steps\n",
    "1- Data Cleaning\n",
    "\n",
    "2- EDA\n",
    "\n",
    "3- Prepare data for LDA analysis\n",
    "\n",
    "4- LDA Model Training\n",
    "\n",
    "5- Analyze LDS model results"
   ]
  },
  {
   "cell_type": "code",
   "execution_count": 27,
   "metadata": {},
   "outputs": [],
   "source": [
    "#Cleaning the text. \n",
    "# Source: https://www.kaggle.com/code/clmentbisaillon/twitter-customer-support-data-cleaning\n",
    "\n",
    "rare = re.compile(r\"\\^\\S*\")\n",
    "new_line = re.compile(r\"\\n+\\S*\")\n",
    "sig = re.compile(r\"-\\S*\")\n",
    "\n",
    "#Initial preprocessing function\n",
    "def preprocessor(data):\n",
    "    corpus = []\n",
    "    for i in tqdm(range(len(data))):\n",
    "        #remove urls\n",
    "        tweet= re.sub(r'http\\S+', ' ', data[\"all_english_text\"][i])\n",
    "\n",
    "        #remove mentions\n",
    "        tweet = re.sub('@[A-Za-z0–9]+', '', tweet)\n",
    "        tweet = re.sub(\"@[\\w]*\",\"\",tweet)\n",
    "        \n",
    "        # # # Contractions (Source: https://www.kaggle.com/code/gunesevitan/nlp-with-disaster-tweets-eda-cleaning-and-bert/notebook)\n",
    "        tweet = re.sub(r\"he's\", \"he is\", tweet)\n",
    "        tweet = re.sub(r\"there's\", \"there is\", tweet)\n",
    "        tweet = re.sub(r\"We're\", \"We are\", tweet)\n",
    "        tweet = re.sub(r\"That's\", \"That is\", tweet)\n",
    "        tweet = re.sub(r\"won't\", \"will not\", tweet)\n",
    "        tweet = re.sub(r\"they're\", \"they are\", tweet)\n",
    "        tweet = re.sub(r\"Can't\", \"Cannot\", tweet)\n",
    "        tweet = re.sub(r\"wasn't\", \"was not\", tweet)\n",
    "        tweet = re.sub(r\"don\\x89Ûªt\", \"do not\", tweet)\n",
    "        tweet = re.sub(r\"aren't\", \"are not\", tweet)\n",
    "        tweet = re.sub(r\"isn't\", \"is not\", tweet)\n",
    "        tweet = re.sub(r\"What's\", \"What is\", tweet)\n",
    "        tweet = re.sub(r\"haven't\", \"have not\", tweet)\n",
    "        tweet = re.sub(r\"hasn't\", \"has not\", tweet)\n",
    "        tweet = re.sub(r\"There's\", \"There is\", tweet)\n",
    "        tweet = re.sub(r\"He's\", \"He is\", tweet)\n",
    "        tweet = re.sub(r\"It's\", \"It is\", tweet)\n",
    "        tweet = re.sub(r\"You're\", \"You are\", tweet)\n",
    "        tweet = re.sub(r\"I'M\", \"I am\", tweet)\n",
    "        tweet = re.sub(r\"shouldn't\", \"should not\", tweet)\n",
    "        tweet = re.sub(r\"wouldn't\", \"would not\", tweet)\n",
    "        tweet = re.sub(r\"i'm\", \"I am\", tweet)\n",
    "        tweet = re.sub(r\"I\\x89Ûªm\", \"I am\", tweet)\n",
    "        tweet = re.sub(r\"I'm\", \"I am\", tweet)\n",
    "        tweet = re.sub(r\"Isn't\", \"is not\", tweet)\n",
    "        tweet = re.sub(r\"Here's\", \"Here is\", tweet)\n",
    "        tweet = re.sub(r\"you've\", \"you have\", tweet)\n",
    "        tweet = re.sub(r\"you\\x89Ûªve\", \"you have\", tweet)\n",
    "        tweet = re.sub(r\"we're\", \"we are\", tweet)\n",
    "        tweet = re.sub(r\"what's\", \"what is\", tweet)\n",
    "        tweet = re.sub(r\"couldn't\", \"could not\", tweet)\n",
    "        tweet = re.sub(r\"we've\", \"we have\", tweet)\n",
    "        tweet = re.sub(r\"it\\x89Ûªs\", \"it is\", tweet)\n",
    "        tweet = re.sub(r\"doesn\\x89Ûªt\", \"does not\", tweet)\n",
    "        tweet = re.sub(r\"It\\x89Ûªs\", \"It is\", tweet)\n",
    "        tweet = re.sub(r\"Here\\x89Ûªs\", \"Here is\", tweet)\n",
    "        tweet = re.sub(r\"who's\", \"who is\", tweet)\n",
    "        tweet = re.sub(r\"I\\x89Ûªve\", \"I have\", tweet)\n",
    "        tweet = re.sub(r\"y'all\", \"you all\", tweet)\n",
    "        tweet = re.sub(r\"can\\x89Ûªt\", \"cannot\", tweet)\n",
    "        tweet = re.sub(r\"would've\", \"would have\", tweet)\n",
    "        tweet = re.sub(r\"it'll\", \"it will\", tweet)\n",
    "        tweet = re.sub(r\"we'll\", \"we will\", tweet)\n",
    "        tweet = re.sub(r\"wouldn\\x89Ûªt\", \"would not\", tweet)\n",
    "        tweet = re.sub(r\"We've\", \"We have\", tweet)\n",
    "        tweet = re.sub(r\"he'll\", \"he will\", tweet)\n",
    "        tweet = re.sub(r\"Y'all\", \"You all\", tweet)\n",
    "        tweet = re.sub(r\"Weren't\", \"Were not\", tweet)\n",
    "        tweet = re.sub(r\"Didn't\", \"Did not\", tweet)\n",
    "        tweet = re.sub(r\"they'll\", \"they will\", tweet)\n",
    "        tweet = re.sub(r\"they'd\", \"they would\", tweet)\n",
    "        tweet = re.sub(r\"DON'T\", \"DO NOT\", tweet)\n",
    "        tweet = re.sub(r\"That\\x89Ûªs\", \"That is\", tweet)\n",
    "        tweet = re.sub(r\"they've\", \"they have\", tweet)\n",
    "        tweet = re.sub(r\"i'd\", \"I would\", tweet)\n",
    "        tweet = re.sub(r\"should've\", \"should have\", tweet)\n",
    "        tweet = re.sub(r\"You\\x89Ûªre\", \"You are\", tweet)\n",
    "        tweet = re.sub(r\"where's\", \"where is\", tweet)\n",
    "        tweet = re.sub(r\"Don\\x89Ûªt\", \"Do not\", tweet)\n",
    "        tweet = re.sub(r\"we'd\", \"we would\", tweet)\n",
    "        tweet = re.sub(r\"i'll\", \"I will\", tweet)\n",
    "        tweet = re.sub(r\"weren't\", \"were not\", tweet)\n",
    "        tweet = re.sub(r\"They're\", \"They are\", tweet)\n",
    "        tweet = re.sub(r\"Can\\x89Ûªt\", \"Cannot\", tweet)\n",
    "        tweet = re.sub(r\"you\\x89Ûªll\", \"you will\", tweet)\n",
    "        tweet = re.sub(r\"I\\x89Ûªd\", \"I would\", tweet)\n",
    "        tweet = re.sub(r\"let's\", \"let us\", tweet)\n",
    "        tweet = re.sub(r\"it's\", \"it is\", tweet)\n",
    "        tweet = re.sub(r\"can't\", \"cannot\", tweet)\n",
    "        tweet = re.sub(r\"don't\", \"do not\", tweet)\n",
    "        tweet = re.sub(r\"you're\", \"you are\", tweet)\n",
    "        tweet = re.sub(r\"i've\", \"I have\", tweet)\n",
    "        tweet = re.sub(r\"that's\", \"that is\", tweet)\n",
    "        tweet = re.sub(r\"i'll\", \"I will\", tweet)\n",
    "        tweet = re.sub(r\"doesn't\", \"does not\", tweet)\n",
    "        tweet = re.sub(r\"i'd\", \"I would\", tweet)\n",
    "        tweet = re.sub(r\"didn't\", \"did not\", tweet)\n",
    "        tweet = re.sub(r\"ain't\", \"am not\", tweet)\n",
    "        tweet = re.sub(r\"you'll\", \"you will\", tweet)\n",
    "        tweet = re.sub(r\"I've\", \"I have\", tweet)\n",
    "        tweet = re.sub(r\"Don't\", \"do not\", tweet)\n",
    "        tweet = re.sub(r\"I'll\", \"I will\", tweet)\n",
    "        tweet = re.sub(r\"I'd\", \"I would\", tweet)\n",
    "        tweet = re.sub(r\"Let's\", \"Let us\", tweet)\n",
    "        tweet = re.sub(r\"you'd\", \"You would\", tweet)\n",
    "        tweet = re.sub(r\"It's\", \"It is\", tweet)\n",
    "        tweet = re.sub(r\"Ain't\", \"am not\", tweet)\n",
    "        tweet = re.sub(r\"Haven't\", \"Have not\", tweet)\n",
    "        tweet = re.sub(r\"Could've\", \"Could have\", tweet)\n",
    "        tweet = re.sub(r\"youve\", \"you have\", tweet)  \n",
    "        tweet = re.sub(r\"donå«t\", \"do not\", tweet) \n",
    "        \n",
    "        # Character entity references\n",
    "        tweet = re.sub(r\"&gt;\", \"\", tweet)\n",
    "        tweet = re.sub(r\"&lt;\", \"\", tweet)\n",
    "        tweet = re.sub(r\"&amp;\", \"\", tweet)      \n",
    "        \n",
    "        #remove emoji\n",
    "        tweet=re.sub(\"[^\\w\\s#@/:%.,_-]\", \"\", tweet, flags=re.UNICODE)#remove emoji\n",
    "        \n",
    "        tweet = tweet.replace('x', '')\n",
    "        \n",
    "        #remove html tags\n",
    "        tweet = re.sub(r'<.*?>',' ', tweet) \n",
    "        \n",
    "        #rare\n",
    "        tweet = rare.sub(r'', tweet)\n",
    "\n",
    "        #new line\n",
    "        tweet = new_line.sub(r'.', tweet)\n",
    "\n",
    "        #remove digits\n",
    "        tweet = re.sub(r'\\d+',' ', tweet)\n",
    "        \n",
    "        # #remove hashtags\n",
    "        # tweet = re.sub(r'#\\w+',' ', tweet)\n",
    "        \n",
    "        #remove white\n",
    "        tweet = re.sub(\"^\\\\s+|\\\\s+$\", \"\", tweet)  # Remove leading and trailing white space\n",
    "        #unite multispace\n",
    "        tweet = ' '.join(tweet.split())\n",
    "        review = re.sub('[^a-zA-Z]', ' ', tweet)\n",
    "\n",
    "        review = review.lower()\n",
    "        review = review.split()\n",
    "\n",
    "        review = ' '.join(review)\n",
    "        corpus.append(review)\n",
    "    return corpus   \n",
    "\n",
    "#FUNCTIONS APPLIED\n",
    "\n",
    "def convert_list_of_str_to_list_lists(X):\n",
    "    return [list(sentence) for sentence in X]\n",
    "\n",
    "def remove_stopwords(word_tokens):\n",
    "    stop_words = stopwords.words('english')\n",
    "    stop_words.extend([\"amp\",\"wa\",\"ta\",\"ha\",\"nn\",\"ie\",\"ste\"])\n",
    "    return [w for w in word_tokens if not w.lower() in stop_words]\n",
    "\n",
    "def tokenize_words(X, tweet_tokenizer=True, rmv_stopwords=True):\n",
    "    if tweet_tokenizer:\n",
    "        tokenize = TweetTokenizer().tokenize\n",
    "    else:\n",
    "        tokenize = nltk.word_tokenize\n",
    "\n",
    "    word_tokens = [tokenize(sentence) for sentence in tqdm(X)]\n",
    "\n",
    "    if rmv_stopwords:\n",
    "        return [remove_stopwords(tokens) for tokens in tqdm(word_tokens)]\n",
    "    else:\n",
    "        return word_tokens\n",
    "\n",
    "def pos_tagging_words(X):\n",
    "    return [[nltk.pos_tag(sentence)] for sentence in X]\n",
    "\n",
    "def lemmatize_words(X, lemmatizer):\n",
    "    X_lemmatize = list()\n",
    "    for sentence in tqdm(X):\n",
    "        X_lemmatize.append([[lemmatizer.lemmatize(word)] for word in sentence])\n",
    "    return X_lemmatize\n",
    "\n",
    "def prepare_tokens_for_vectorize(X):\n",
    "    X_preproc = list()\n",
    "    for sentence_tok in tqdm(X):\n",
    "        tokens = [tok[0] for tok in tqdm(sentence_tok)]\n",
    "        X_preproc.append(\" \".join(tokens))\n",
    "\n",
    "    return X_preproc"
   ]
  },
  {
   "cell_type": "code",
   "execution_count": 28,
   "metadata": {},
   "outputs": [
    {
     "name": "stderr",
     "output_type": "stream",
     "text": [
      "100%|██████████| 240000/240000 [00:21<00:00, 11132.73it/s]\n",
      "100%|██████████| 60000/60000 [00:05<00:00, 11192.75it/s]\n",
      "100%|██████████| 240000/240000 [00:19<00:00, 12504.22it/s]\n",
      "100%|██████████| 240000/240000 [00:43<00:00, 5546.92it/s]\n",
      "100%|██████████| 60000/60000 [00:04<00:00, 12517.93it/s]\n",
      "100%|██████████| 60000/60000 [00:10<00:00, 5547.95it/s]\n"
     ]
    }
   ],
   "source": [
    "X_train = preprocessor(training_df)\n",
    "y_train = np.array(training_df[\"country\"])\n",
    "\n",
    "X_test = preprocessor(test_df)\n",
    "\n",
    "X_token_train = tokenize_words(X_train)\n",
    "X_token_test = tokenize_words(X_test)\n",
    "\n",
    "X_pos_tag_train = pos_tagging_words(X_token_train)\n",
    "X_pos_tag_test = pos_tagging_words(X_token_test)\n",
    "\n",
    "X_lemma_train = lemmatize_words(X_token_train, WordNetLemmatizer())\n",
    "X_lemma_test = lemmatize_words(X_token_test, WordNetLemmatizer())\n",
    "\n",
    "X_prep_train = prepare_tokens_for_vectorize(X_lemma_train)\n",
    "X_prep_test = prepare_tokens_for_vectorize(X_lemma_test)\n",
    "\n",
    "#Attach\n",
    "training_df[\"clean_text\"] = np.array(X_prep_train)\n",
    "test_df[\"clean_text\"] = np.array(X_prep_test)"
   ]
  },
  {
   "cell_type": "code",
   "execution_count": null,
   "metadata": {},
   "outputs": [],
   "source": [
    "# # Join the different processed titles together.\n",
    "long_string = ','.join(list(training_df[\"clean_text\"].values))\n",
    "\n",
    "# # Create a WordCloud object\n",
    "wordcloud = WordCloud(background_color=\"white\", max_words=5000, contour_width=3, contour_color='steelblue')\n",
    "\n",
    "# # Generate a word cloud\n",
    "wordcloud.generate(long_string)\n",
    "\n",
    "# # Visualize the word cloud\n",
    "wordcloud.to_image()"
   ]
  },
  {
   "cell_type": "code",
   "execution_count": null,
   "metadata": {},
   "outputs": [],
   "source": [
    "#Prepate text for LDA\n",
    "\n",
    "# Load the library with the CountVectorizer method\n",
    "\n",
    "sns.set_style('whitegrid')\n",
    "%matplotlib inline\n",
    "\n",
    "# Helper function\n",
    "def plot_10_most_common_words(count_data, count_vectorizer):\n",
    "    # import matplotlib.pyplot as plt\n",
    "    words = count_vectorizer.get_feature_names()\n",
    "    total_counts = np.zeros(len(words))\n",
    "    \n",
    "    for t in count_data:\n",
    "        total_counts+=t.toarray()[0]\n",
    "\n",
    "    count_dict = (zip(words, total_counts))\n",
    "    count_dict = sorted(count_dict, key=lambda x:x[1], reverse=True)[0:10]\n",
    "    words = [w[0] for w in count_dict]\n",
    "    counts = [w[1] for w in count_dict]\n",
    "    x_pos = np.arange(len(words))\n",
    "\n",
    "    plt.figure(2, figsize=(15, 15/1.6180))\n",
    "    plt.subplot(title='10 most common words')\n",
    "    sns.set_context(\"notebook\", font_scale=1.25, rc={\"lines.linewidth\": 2.5})\n",
    "    sns.barplot(x_pos, counts, palette='husl')\n",
    "    plt.xticks(x_pos, words, rotation=90)\n",
    "    plt.xlabel('words')\n",
    "    plt.ylabel('counts')\n",
    "    plt.show()\n",
    "\n",
    "# Initialise the count vectorizer with the English stop words\n",
    "count_vectorizer = CountVectorizer(stop_words='english')\n",
    "# Fit and transform the processed titles\n",
    "count_data = count_vectorizer.fit_transform(training_df[\"clean_text\"].dropna())\n",
    "# Visualise the 10 most common words\n",
    "plot_10_most_common_words(count_data, count_vectorizer)"
   ]
  },
  {
   "cell_type": "code",
   "execution_count": null,
   "metadata": {},
   "outputs": [],
   "source": [
    "# import warnings\n",
    "warnings.simplefilter(\"ignore\", DeprecationWarning)\n",
    "\n",
    "# Load the LDA model from sk-learn\n",
    "from sklearn.decomposition import LatentDirichletAllocation as LDA\n",
    "\n",
    "# Helper function\n",
    "def print_topics(model, count_vectorizer, n_top_words):\n",
    "    words = count_vectorizer.get_feature_names()\n",
    "    for topic_idx, topic in tqdm(enumerate(model.components_)):\n",
    "        print(\"\\nTopic #%d:\" % topic_idx)\n",
    "        print(\" \".join([words[i]\n",
    "            for i in topic.argsort()[:-n_top_words - 1:-1]]))\n",
    "\n",
    "# Tweak the two parameters below\n",
    "number_topics = 10\n",
    "number_words = 10\n",
    "\n",
    "# Create and fit the LDA model\n",
    "lda = LDA(n_components=number_topics, n_jobs=-1)\n",
    "lda.fit(count_data)\n",
    "\n",
    "# Print the topics found by the LDA model\n",
    "print(\"Topics found via LDA:\")\n",
    "print_topics(lda, count_vectorizer, number_words)"
   ]
  },
  {
   "cell_type": "code",
   "execution_count": null,
   "metadata": {},
   "outputs": [],
   "source": [
    "#%%time\n",
    "#from pyLDAvis import sklearn as sklearn_lda\n",
    "#import pickle\n",
    "#import pyLDAvis\n",
    "\n",
    "#LDAvis_data_filepath = os.path.join('./ldavis_prepared_'+str(number_topics))\n",
    "# # this is a bit time consuming - make the if statement True\n",
    "# # if you want to execute visualization prep yourself\n",
    "\n",
    "#if 1 == 1:\n",
    "#    LDAvis_prepared = sklearn_lda.prepare(lda, count_data, count_vectorizer)\n",
    "#    with open(LDAvis_data_filepath, 'wb') as f:\n",
    "#        pickle.dump(LDAvis_prepared, f)\n",
    "\n",
    "# load the pre-prepared pyLDAvis data from disk\n",
    "\n",
    "#with open(LDAvis_data_filepath, 'rb') as f:\n",
    "#    LDAvis_prepared = pickle.load(f)\n",
    "#pyLDAvis.save_html(LDAvis_prepared, './ldavis_prepared_'+ str(number_topics) +'.html')"
   ]
  },
  {
   "cell_type": "markdown",
   "metadata": {},
   "source": [
    "### Answer: Topics\n",
    "Topics found via LDA:\n",
    "\n",
    "Topic #0: covid report new zealand day lockdown coronavirus today patient data\n",
    "\n",
    "Topic #1: covid pandemic vaccine support new help coronavirus health business impact\n",
    "\n",
    "Topic #2: covid case death new day coronavirus number people test positive\n",
    "\n",
    "Topic #3: coronavirus covid uk test flu government positive people quarantine trump\n",
    "\n",
    "Topic #4: covid dr coronavirus treatment fauci hydroychloroquine study virus immunity say\n",
    "\n",
    "Topic #5: covid home stayhome worker school staysafe care family life people\n",
    "\n",
    "Topic #6: covid mask people coronavirus spread face wear hand social distancing\n",
    "\n",
    "Topic #7: covid coronavirus minister china lockdown say week day medical uk\n",
    "\n",
    "Topic #8: covid trump coronavirus american people died america staysafe vote know\n",
    "\n",
    "Topic #9: covid pandemic need health people crisis government response economy world"
   ]
  },
  {
   "cell_type": "markdown",
   "metadata": {},
   "source": [
    "## Part I: Descriptive Analysis - D\n",
    "Using the code in the following link4, perform Non-negative Matrix Factorization for topic analysis. Again, like in question c), set the number of clusters/topics to 10 (ten) and extract the topics in an unsupervised manner. Adjust any parameters as you see fit. Analyze the results. Do you see any similarities or differences with respect to your results in c) ? Explain. (5 points)"
   ]
  },
  {
   "cell_type": "code",
   "execution_count": null,
   "metadata": {},
   "outputs": [],
   "source": [
    "vectorizer = TfidfVectorizer(ngram_range=(1,2), lowercase=False)\n",
    "vectorizer.fit(X_prep_train+X_prep_test)\n",
    "\n",
    "X_final_train = vectorizer.transform(X_prep_train)\n",
    "X_final_test = vectorizer.transform(X_prep_test)"
   ]
  },
  {
   "cell_type": "code",
   "execution_count": null,
   "metadata": {},
   "outputs": [],
   "source": [
    "n_samples = 2000\n",
    "n_features = 1000\n",
    "n_components = 10\n",
    "n_top_words = 20\n",
    "batch_size = 128\n",
    "init = \"nndsvda\"\n",
    "\n",
    "\n",
    "def plot_top_words(model, feature_names, n_top_words, title):\n",
    "    fig, axes = plt.subplots(2, 5, figsize=(30, 15), sharex=True)\n",
    "    axes = axes.flatten()\n",
    "    for topic_idx, topic in enumerate(model.components_):\n",
    "        top_features_ind = topic.argsort()[: -n_top_words - 1 : -1]\n",
    "        top_features = [feature_names[i] for i in top_features_ind]\n",
    "        weights = topic[top_features_ind]\n",
    "\n",
    "        ax = axes[topic_idx]\n",
    "        ax.barh(top_features, weights, height=0.7)\n",
    "        ax.set_title(f\"Topic {topic_idx +1}\", fontdict={\"fontsize\": 30})\n",
    "        ax.invert_yaxis()\n",
    "        ax.tick_params(axis=\"both\", which=\"major\", labelsize=20)\n",
    "        for i in \"top right left\".split():\n",
    "            ax.spines[i].set_visible(False)\n",
    "        fig.suptitle(title, fontsize=40)\n",
    "\n",
    "    plt.subplots_adjust(top=0.90, bottom=0.05, wspace=0.90, hspace=0.3)\n",
    "    plt.show()\n",
    "\n",
    "# Use tf-idf features for NMF.\n",
    "print(\"Extracting tf-idf features for NMF...\")\n",
    "tfidf_vectorizer = TfidfVectorizer(\n",
    "    max_df=0.95, min_df=2, max_features=n_features, stop_words=\"english\"\n",
    ")\n",
    "t0 = time()\n",
    "tfidf = tfidf_vectorizer.fit_transform(X_prep_train)\n",
    "print(\"done in %0.3fs.\" % (time() - t0))\n",
    "\n",
    "# Use tf (raw term count) features for LDA.\n",
    "print(\"Extracting tf features for LDA...\")\n",
    "tf_vectorizer = CountVectorizer(\n",
    "    max_df=0.95, min_df=2, max_features=n_features, stop_words=\"english\"\n",
    ")\n",
    "t0 = time()\n",
    "tf = tf_vectorizer.fit_transform(X_prep_train)\n",
    "print(\"done in %0.3fs.\" % (time() - t0))\n",
    "print()\n",
    "\n",
    "# Fit the NMF model\n",
    "print(\n",
    "    \"Fitting the NMF model (Frobenius norm) with tf-idf features, \"\n",
    "    \"n_samples=%d and n_features=%d...\" % (n_samples, n_features)\n",
    ")\n",
    "t0 = time()\n",
    "nmf = NMF(\n",
    "    n_components=n_components,\n",
    "    random_state=1,\n",
    "    init=init,\n",
    "    beta_loss=\"frobenius\",\n",
    "    alpha_W=0.00005,\n",
    "    alpha_H=0.00005,\n",
    "    l1_ratio=1,\n",
    ").fit(tfidf)\n",
    "print(\"done in %0.3fs.\" % (time() - t0))\n",
    "\n",
    "\n",
    "tfidf_feature_names = tfidf_vectorizer.get_feature_names_out()\n",
    "plot_top_words(\n",
    "    nmf, tfidf_feature_names, n_top_words, \"Topics in NMF model (Frobenius norm)\"\n",
    ")"
   ]
  },
  {
   "cell_type": "markdown",
   "metadata": {},
   "source": [
    "## Part I: Descriptive Analysis - E\n",
    "Write a ‘text cleaner’ function that does the following: (i) remove stopwords5, (ii) remove all words that are shorter than 3 characters, (iii) remove all links (starting with http), (iv) remove emojis, (v) remove punctuation. Attach the code you wrote to the lemmatizer.py file in the project folder. Run the lemmatizer function and create ‘cleaned and lemmatized’ version of text column. (You can name the new column as text_clean). After the cleaning, expand the table you have created in Part I, a) by calculating minimum, average, median, and maximum for the newly created text_clean column (#characters and #words). (5 points)"
   ]
  },
  {
   "cell_type": "markdown",
   "metadata": {},
   "source": [
    "Same text cleaner as used in Part C."
   ]
  },
  {
   "cell_type": "markdown",
   "metadata": {},
   "source": [
    "#### Characters"
   ]
  },
  {
   "cell_type": "code",
   "execution_count": null,
   "metadata": {},
   "outputs": [],
   "source": [
    "#Calculate the AVERAGE lenght of CLEAN tweets (Characters)\n",
    "def tweet_len_char_avg(data):\n",
    "    lenghts = []\n",
    "    for i in data:\n",
    "        lenghts.append(len(i))\n",
    "    return sum(lenghts)/len(data)\n",
    "tweet_len_char_avg(training_df.clean_text)"
   ]
  },
  {
   "cell_type": "code",
   "execution_count": null,
   "metadata": {},
   "outputs": [],
   "source": [
    "#Calculate the MAX lenght of CLEAN tweets (Characters)\n",
    "def tweet_len_char_max(data):\n",
    "    lenghts = []\n",
    "    for i in data:\n",
    "        lenghts.append(len(i))\n",
    "    return max(lenghts)\n",
    "tweet_len_char_max(training_df.clean_text)"
   ]
  },
  {
   "cell_type": "code",
   "execution_count": null,
   "metadata": {},
   "outputs": [],
   "source": [
    "#Calculate the MIN lenght of CLEAN tweets (Characters)\n",
    "def tweet_len_char_min(data):\n",
    "    lenghts = []\n",
    "    for i in data:\n",
    "        lenghts.append(len(i))\n",
    "    return min(lenghts)\n",
    "tweet_len_char_min(training_df.clean_text)"
   ]
  },
  {
   "cell_type": "code",
   "execution_count": null,
   "metadata": {},
   "outputs": [],
   "source": [
    "#Calculate the MEDIAN lenght of CLEAN tweets (Characters)\n",
    "def tweet_len_char_median(data):\n",
    "    lenghts = []\n",
    "    for i in data:\n",
    "        lenghts.append(len(i))\n",
    "    return np.median(lenghts)\n",
    "tweet_len_char_median(training_df.clean_text)"
   ]
  },
  {
   "cell_type": "markdown",
   "metadata": {},
   "source": [
    "#### WORDS"
   ]
  },
  {
   "cell_type": "code",
   "execution_count": null,
   "metadata": {},
   "outputs": [],
   "source": [
    "#Calculate the AVERAGE number of CLEAN words\n",
    "def tweet_len_words_avg(data):\n",
    "    word_count = []\n",
    "    for i in data:\n",
    "        word_count.append(len(i.split()))\n",
    "    return sum(word_count)/len(data)\n",
    "tweet_len_words_avg(training_df.clean_text)"
   ]
  },
  {
   "cell_type": "code",
   "execution_count": null,
   "metadata": {},
   "outputs": [],
   "source": [
    "#Calculate the MIN number of CLEAN Words in tweets\n",
    "def tweet_len_words_min(data):\n",
    "    word_count = []\n",
    "    for i in data:\n",
    "        word_count.append(len(i.split()))\n",
    "    return min(word_count)\n",
    "tweet_len_words_min(training_df.clean_text)"
   ]
  },
  {
   "cell_type": "code",
   "execution_count": null,
   "metadata": {},
   "outputs": [],
   "source": [
    "#Calculate the MAX number of CLEAN Words in tweets\n",
    "def tweet_len_words_max(data):\n",
    "    word_count = []\n",
    "    for i in data:\n",
    "        word_count.append(len(i.split()))\n",
    "    return max(word_count)\n",
    "tweet_len_words_max(training_df.clean_text)"
   ]
  },
  {
   "cell_type": "code",
   "execution_count": null,
   "metadata": {},
   "outputs": [],
   "source": [
    "#Calculate the MEDIAN number of CLEAN Words in tweets\n",
    "def tweet_len_words_max(data):\n",
    "    word_count = []\n",
    "    for i in data:\n",
    "        word_count.append(len(i.split()))\n",
    "    return np.median(word_count)\n",
    "tweet_len_words_max(training_df.clean_text)"
   ]
  },
  {
   "cell_type": "markdown",
   "metadata": {},
   "source": [
    "## Part I: Descriptive Analysis - F\n",
    "\n",
    "Extract the unique set of all different hashtags found in the training dataset (i). Then, create one\n",
    "separate data subset for each country by splitting the data using the country column (ii). As\n",
    "next, for each country, create a vectorized format of the count values for all different hashtags\n",
    "you have extracted in (i) (you should obtain one count vector per country with all unique\n",
    "hashtags). Using cosine similarity6\n",
    ", compute the pairwise similarity values between the different\n",
    "count vectors you have created for each country. Finally, create a heatmap7 of the pairwise\n",
    "similarity values you have calculated. What are some of your observations? Are any two countries\n",
    "more similar to each other than others? If yes, explain. If not, explain, as well. Are there any very\n",
    "large or very small values? (Add the graph you created to the report at the end.) (5 points)\n"
   ]
  },
  {
   "cell_type": "code",
   "execution_count": null,
   "metadata": {},
   "outputs": [],
   "source": [
    "labels=['australia', 'canada', 'ireland', 'new zealand', 'uk', 'us']\n",
    "similarity = cosine_similarity(countryValues)\n",
    "\n",
    "mask = np.zeros_like(similarity)\n",
    "mask[np.triu_indices_from(mask)] = True\n",
    "\n",
    "sns.heatmap(similarity, square=True, annot=True, xticklabels=labels, yticklabels=labels, mask=mask)\n",
    "plt.show()\n"
   ]
  },
  {
   "cell_type": "code",
   "execution_count": 11,
   "metadata": {},
   "outputs": [],
   "source": [
    "import requests\n",
    "\n",
    "session = requests.Session()\n",
    "#expanding URLs\n",
    "def expandUrls(tweet):\n",
    "\turls = re.findall(r'(https?://\\S+)', tweet)\n",
    "\texpanded = []\n",
    "\tfor url in urls:\n",
    "\t\ttry:\n",
    "\t\t\texpanded.append(session.head(url, allow_redirects=True, timeout=3).url)\n",
    "\t\texcept:\n",
    "\t\t\texpanded.append(url)\n",
    "\treturn expanded"
   ]
  },
  {
   "cell_type": "code",
   "execution_count": 9,
   "metadata": {},
   "outputs": [],
   "source": [
    "from urllib.parse import urlparse\n",
    "\n",
    "#Function to extract words from expanded link\n",
    "def getUrlWords(urls):\n",
    "    info = []\n",
    "    urls = urls.split(\" \")\n",
    "\t# Split up words in the path\n",
    "    if(urls != ['']):\n",
    "        for url in urls:\n",
    "            parsed_url = urlparse(url)\n",
    "            split_slash = \" \".join(parsed_url.path.split(\"/\"))\n",
    "            info.append(\" \".join(split_slash.split('-')))\n",
    "            \n",
    "\t\t\t#Split up words in website location\n",
    "            if (parsed_url.netloc not in ['twitter.com', 't.co']):\n",
    "                info.append(\" \".join(parsed_url.netloc.split(\".\")))\n",
    "\n",
    "    return \" \".join(info)"
   ]
  },
  {
   "cell_type": "code",
   "execution_count": 12,
   "metadata": {},
   "outputs": [
    {
     "data": {
      "text/plain": [
       "['https://paper.li/JacobTh85649736/1584426982?edition_id=5fe8a2a0-c40a-11ea-a3f9-0cc47a0d1605']"
      ]
     },
     "execution_count": 12,
     "metadata": {},
     "output_type": "execute_result"
    }
   ],
   "source": [
    "expandUrls(training_df['text'][235000])"
   ]
  },
  {
   "cell_type": "code",
   "execution_count": 13,
   "metadata": {},
   "outputs": [],
   "source": [
    "tqdm.pandas()"
   ]
  },
  {
   "cell_type": "code",
   "execution_count": null,
   "metadata": {},
   "outputs": [],
   "source": [
    "#CODE TO RUN EXPAND LINKS FUNCTION\n",
    "\n",
    "#expanded_urls = []                   \n",
    "#for i in tqdm(range(len(training_df))):\n",
    "\t#expanded_urls.append(expandUrls(training_df['text'][i]))\n",
    "#training_df['expanded_urls'] = expanded_urls"
   ]
  },
  {
   "cell_type": "markdown",
   "metadata": {},
   "source": [
    "## Data Cleaning"
   ]
  },
  {
   "cell_type": "code",
   "execution_count": 19,
   "metadata": {},
   "outputs": [
    {
     "name": "stderr",
     "output_type": "stream",
     "text": [
      "Pandas Apply: 100%|██████████| 240000/240000 [00:00<00:00, 1063383.62it/s]\n",
      "Pandas Apply: 100%|██████████| 240000/240000 [00:08<00:00, 27323.78it/s]\n"
     ]
    }
   ],
   "source": [
    "training_df['text_remove_newline'] = training_df['text'].swifter.apply(lambda x: x.replace(\"\\n\", \"\"))\n",
    "training_df['text_demojize'] = training_df['text_remove_newline'].swifter.apply(lambda x: emoji.demojize(x, delimiters=(\" \", \" \")))"
   ]
  },
  {
   "cell_type": "code",
   "execution_count": 20,
   "metadata": {},
   "outputs": [
    {
     "name": "stderr",
     "output_type": "stream",
     "text": [
      "Pandas Apply: 100%|██████████| 240000/240000 [00:01<00:00, 187852.36it/s]\n",
      "Pandas Apply: 100%|██████████| 240000/240000 [00:02<00:00, 118827.25it/s]\n"
     ]
    }
   ],
   "source": [
    "training_df['expanded_urls'] = training_df['expanded_urls'].fillna(\"\")\n",
    "training_df['expanded_urls'] = training_df['expanded_urls'].apply(lambda x: x.strip(\" \"))\n",
    "training_df['url_info'] = training_df['expanded_urls'].swifter.apply(lambda x: getUrlWords(x))\n",
    "\n",
    "training_df['new_text'] = training_df['text_demojize'] + training_df['url_info']\n",
    "training_df['final_text'] = training_df['new_text'].swifter.apply(lambda x: re.sub(r'\\s+', ' ', x))"
   ]
  },
  {
   "cell_type": "code",
   "execution_count": 21,
   "metadata": {},
   "outputs": [
    {
     "data": {
      "text/plain": [
       "'#Pakistan (#GreenStimulus = #Nature protection + #Green Jobs for community youth) - within this the recently announced #ProtectedAreasInitiative by @ImranKhanPTI is a major part of the post #COVID19 recovery plan https://t.co/pqsoCQ83DZ item 20200717070925 r4m9m news trust org'"
      ]
     },
     "execution_count": 21,
     "metadata": {},
     "output_type": "execute_result"
    }
   ],
   "source": [
    "training_df['final_text'][3]"
   ]
  },
  {
   "cell_type": "markdown",
   "metadata": {},
   "source": [
    "## Multinomial Bayes Model"
   ]
  },
  {
   "cell_type": "code",
   "execution_count": 22,
   "metadata": {},
   "outputs": [],
   "source": [
    "from sklearn.feature_extraction.text import TfidfVectorizer\n",
    "from sklearn.metrics import accuracy_score\n",
    "from sklearn.model_selection import train_test_split\n",
    "from sklearn.pipeline import Pipeline\n",
    "from sklearn.naive_bayes import MultinomialNB\n",
    "from sklearn.metrics import plot_confusion_matrix"
   ]
  },
  {
   "cell_type": "code",
   "execution_count": 23,
   "metadata": {},
   "outputs": [],
   "source": [
    "X = training_df['final_text']\n",
    "y = training_df['country']"
   ]
  },
  {
   "cell_type": "code",
   "execution_count": 24,
   "metadata": {},
   "outputs": [],
   "source": [
    "x_train, x_test, y_train, y_test = train_test_split(X,y,test_size=0.2, random_state = 0)"
   ]
  },
  {
   "cell_type": "code",
   "execution_count": 25,
   "metadata": {},
   "outputs": [],
   "source": [
    "nb_pipeline = Pipeline([\n",
    "  (\"tf-idf\", TfidfVectorizer(sublinear_tf = True, \n",
    "  \t\t\t\t\t\t\tstop_words = 'english')),\n",
    "  (\"nb\", MultinomialNB())\n",
    "])\n",
    "nb_pipeline.fit(x_train, y_train)\n",
    "\n",
    "y_pred_nb = nb_pipeline.predict_proba(x_test)"
   ]
  },
  {
   "cell_type": "code",
   "execution_count": 26,
   "metadata": {},
   "outputs": [],
   "source": [
    "y_pred = nb_pipeline.predict(x_test)"
   ]
  },
  {
   "cell_type": "code",
   "execution_count": 27,
   "metadata": {},
   "outputs": [
    {
     "data": {
      "image/png": "[encoded data removed]",
      "text/plain": [
       "<Figure size 640x480 with 2 Axes>"
      ]
     },
     "metadata": {},
     "output_type": "display_data"
    }
   ],
   "source": [
    "labels=['australia', 'canada', 'ireland', 'new zealand', 'uk', 'us']\n",
    "\n",
    "display = plot_confusion_matrix(\n",
    "        nb_pipeline,\n",
    "        x_test,\n",
    "        y_test,\n",
    "        display_labels=labels,\n",
    "        cmap=plt.cm.Blues,\n",
    "\t\txticks_rotation=45)\n",
    "plt.show()\n",
    "                    "
   ]
  },
  {
   "cell_type": "markdown",
   "metadata": {},
   "source": [
    "## 1D CNN Model"
   ]
  },
  {
   "cell_type": "code",
   "execution_count": 28,
   "metadata": {},
   "outputs": [],
   "source": [
    "from keras.preprocessing.text import Tokenizer\n",
    "from keras_preprocessing.sequence import pad_sequences\n",
    "from keras.models import Sequential\n",
    "from keras.layers import Dense, Dropout, Activation, Conv1D, GlobalMaxPooling1D, Embedding\n",
    "from keras.utils import to_categorical\n",
    "from sklearn.preprocessing import LabelEncoder"
   ]
  },
  {
   "cell_type": "code",
   "execution_count": 29,
   "metadata": {},
   "outputs": [],
   "source": [
    "numWords = 100000\n",
    "max_length = 150"
   ]
  },
  {
   "cell_type": "code",
   "execution_count": 30,
   "metadata": {},
   "outputs": [],
   "source": [
    "tokenizer = Tokenizer(num_words=numWords, filters='!\"#$%&()*+,-./:;<=>?@[\\]^_`{|}~', lower=True)\n",
    "tokenizer.fit_on_texts(training_df['final_text'].values)"
   ]
  },
  {
   "cell_type": "code",
   "execution_count": 31,
   "metadata": {},
   "outputs": [],
   "source": [
    "X = tokenizer.texts_to_sequences(training_df['final_text'].values)\n",
    "X = pad_sequences(X, maxlen=max_length)"
   ]
  },
  {
   "cell_type": "code",
   "execution_count": 32,
   "metadata": {},
   "outputs": [],
   "source": [
    "label_encoder = LabelEncoder()\n",
    "training_df['Country_Cat'] = label_encoder.fit_transform(training_df['country'])"
   ]
  },
  {
   "cell_type": "code",
   "execution_count": 33,
   "metadata": {},
   "outputs": [],
   "source": [
    "X_train = X[x_train.index]\n",
    "X_test = X[x_test.index]\n",
    "Y_train = to_categorical(training_df['Country_Cat'][y_train.index])\n",
    "Y_test = to_categorical(training_df['Country_Cat'][y_test.index])"
   ]
  },
  {
   "cell_type": "code",
   "execution_count": 52,
   "metadata": {},
   "outputs": [],
   "source": [
    "#Embedding output dimensions = 100\n",
    "#1D CNN layer with 250 filters and a kernel size of 3\n",
    "model = Sequential()\n",
    "model.add(Embedding(numWords, 100, input_length=max_length))\n",
    "model.add(Dropout(0.1))\n",
    "model.add(Conv1D(250,\n",
    "                 2,\n",
    "                 padding='valid',\n",
    "                 activation='relu',\n",
    "                 strides=1))\n",
    "model.add(GlobalMaxPooling1D())\n",
    "model.add(Dense(250))\n",
    "model.add(Dropout(0.1))\n",
    "model.add(Activation('relu'))\n",
    "model.add(Dense(6, activation='softmax'))\n",
    "model.compile(loss='categorical_crossentropy', optimizer='adam', metrics=['accuracy'])\n",
    "#print(model.summary())"
   ]
  },
  {
   "cell_type": "code",
   "execution_count": 53,
   "metadata": {},
   "outputs": [
    {
     "name": "stdout",
     "output_type": "stream",
     "text": [
      "Epoch 1/2\n",
      "1200/1200 [==============================] - 122s 102ms/step - loss: 1.4473 - accuracy: 0.4179 - val_loss: 1.3358 - val_accuracy: 0.4799\n",
      "Epoch 2/2\n",
      "1200/1200 [==============================] - 118s 98ms/step - loss: 1.1845 - accuracy: 0.5500 - val_loss: 1.3504 - val_accuracy: 0.4829\n"
     ]
    }
   ],
   "source": [
    "epochs = 2\n",
    "batch_size = 128\n",
    "\n",
    "history = model.fit(X_train, Y_train, epochs=epochs, batch_size=batch_size,validation_split=0.2)"
   ]
  },
  {
   "cell_type": "code",
   "execution_count": 54,
   "metadata": {},
   "outputs": [
    {
     "name": "stdout",
     "output_type": "stream",
     "text": [
      "1500/1500 [==============================] - 5s 3ms/step - loss: 1.3503 - accuracy: 0.4817\n"
     ]
    },
    {
     "data": {
      "text/plain": [
       "[1.350325345993042, 0.4817083477973938]"
      ]
     },
     "execution_count": 54,
     "metadata": {},
     "output_type": "execute_result"
    }
   ],
   "source": [
    "model.evaluate(X_test, Y_test)"
   ]
  },
  {
   "cell_type": "code",
   "execution_count": 55,
   "metadata": {},
   "outputs": [
    {
     "name": "stdout",
     "output_type": "stream",
     "text": [
      "1500/1500 [==============================] - 5s 3ms/step\n"
     ]
    }
   ],
   "source": [
    "y_pred_cnn = model.predict(X_test)"
   ]
  },
  {
   "cell_type": "code",
   "execution_count": 56,
   "metadata": {},
   "outputs": [
    {
     "data": {
      "image/png": "[encoded data removed]",
      "text/plain": [
       "<Figure size 640x480 with 2 Axes>"
      ]
     },
     "metadata": {},
     "output_type": "display_data"
    }
   ],
   "source": [
    "from sklearn.metrics import confusion_matrix, ConfusionMatrixDisplay\n",
    "\n",
    "y_pred = np.argmax(y_pred_cnn, axis=1)\n",
    "\n",
    "labels=['australia', 'canada', 'ireland', 'new zealand', 'uk', 'us']\n",
    "cm = confusion_matrix(training_df['Country_Cat'][y_test.index].to_numpy(), y_pred, labels = [0,1,2,3,4,5])\n",
    "\n",
    "disp = ConfusionMatrixDisplay(confusion_matrix=cm, display_labels=labels)\n",
    "disp.plot(xticks_rotation = 45, cmap=plt.cm.Blues)\n",
    "plt.show()"
   ]
  },
  {
   "cell_type": "markdown",
   "metadata": {},
   "source": [
    "## Ensemble Model"
   ]
  },
  {
   "cell_type": "code",
   "execution_count": 39,
   "metadata": {},
   "outputs": [],
   "source": [
    "y_pred = y_pred_cnn + y_pred_nb\n",
    "res = np.argmax(y_pred, axis=1)"
   ]
  },
  {
   "cell_type": "code",
   "execution_count": 40,
   "metadata": {},
   "outputs": [
    {
     "data": {
      "text/plain": [
       "0.49341666666666667"
      ]
     },
     "execution_count": 40,
     "metadata": {},
     "output_type": "execute_result"
    }
   ],
   "source": [
    "accuracy_score(res, training_df['Country_Cat'][y_test.index])"
   ]
  },
  {
   "cell_type": "code",
   "execution_count": 41,
   "metadata": {},
   "outputs": [
    {
     "data": {
      "image/png": "[encoded data removed]",
      "text/plain": [
       "<Figure size 640x480 with 2 Axes>"
      ]
     },
     "metadata": {},
     "output_type": "display_data"
    }
   ],
   "source": [
    "labels=['australia', 'canada', 'ireland', 'new zealand', 'uk', 'us']\n",
    "cm = confusion_matrix(training_df['Country_Cat'][y_test.index].to_numpy(), res, labels = [0,1,2,3,4,5])\n",
    "\n",
    "disp = ConfusionMatrixDisplay(confusion_matrix=cm, display_labels=labels)\n",
    "disp.plot(xticks_rotation = 45, cmap=plt.cm.Blues)\n",
    "plt.show()"
   ]
  },
  {
   "cell_type": "markdown",
   "metadata": {},
   "source": [
    "## Preparing Test Data"
   ]
  },
  {
   "cell_type": "code",
   "execution_count": 42,
   "metadata": {},
   "outputs": [
    {
     "name": "stderr",
     "output_type": "stream",
     "text": [
      "Pandas Apply: 100%|██████████| 60000/60000 [00:00<00:00, 1024758.90it/s]\n",
      "Pandas Apply: 100%|██████████| 60000/60000 [00:02<00:00, 27267.87it/s]\n",
      "Pandas Apply: 100%|██████████| 60000/60000 [00:00<00:00, 116631.18it/s]\n"
     ]
    }
   ],
   "source": [
    "test_df['text_remove_newline'] = test_df['text'].swifter.apply(lambda x: x.replace(\"\\n\", \"\"))\n",
    "test_df['text_demojize'] = test_df['text_remove_newline'].swifter.apply(lambda x: emoji.demojize(x, delimiters=(\" \", \" \")))\n",
    "\t\n",
    "test_df['expanded_urls'] = test_df['expanded_urls'].fillna(\"\")\n",
    "test_df['expanded_urls'] = test_df['expanded_urls'].apply(lambda x: x.strip(\" \"))\n",
    "\n",
    "test_df['url_info'] = test_df['expanded_urls'].apply(lambda x: getUrlWords(x))\n",
    "test_df['new_text'] = test_df['text_demojize'] + test_df['url_info']\n",
    "test_df['final_text'] = test_df['new_text'].swifter.apply(lambda x: re.sub(r'\\s+', ' ', x))"
   ]
  },
  {
   "cell_type": "code",
   "execution_count": 43,
   "metadata": {},
   "outputs": [
    {
     "data": {
      "text/plain": [
       "'Pls RT: An upcoming Report by @Kaleidoscope_T and @CWEquality is exposing the devastating ways in which the #COVID19 pandemic is affecting our #LGBTI+ siblings in the #Commonwealth. Please support and donate if you can https://t.co/tH7iFwLIjN #fundraising #humanrights #campaign https://t.co/lJ35xdhHaj covid 19 www kaleidoscopetrust com MsLadyPhyll status 1258470166314303489 photo 1'"
      ]
     },
     "execution_count": 43,
     "metadata": {},
     "output_type": "execute_result"
    }
   ],
   "source": [
    "test_df['final_text'][11]"
   ]
  },
  {
   "cell_type": "code",
   "execution_count": 44,
   "metadata": {},
   "outputs": [],
   "source": [
    "test_df_tokenized = tokenizer.texts_to_sequences(test_df['final_text'].values)\n",
    "test_df_padded = pad_sequences(test_df_tokenized, maxlen=max_length)"
   ]
  },
  {
   "cell_type": "code",
   "execution_count": 45,
   "metadata": {},
   "outputs": [
    {
     "name": "stdout",
     "output_type": "stream",
     "text": [
      "1875/1875 [==============================] - 6s 3ms/step\n"
     ]
    }
   ],
   "source": [
    "test_y_pred_cnn = model.predict(test_df_padded)"
   ]
  },
  {
   "cell_type": "code",
   "execution_count": 46,
   "metadata": {},
   "outputs": [],
   "source": [
    "test_y_pred_nb = nb_pipeline.predict_proba(test_df['final_text'])"
   ]
  },
  {
   "cell_type": "code",
   "execution_count": 47,
   "metadata": {},
   "outputs": [],
   "source": [
    "final_y_pred = test_y_pred_cnn + test_y_pred_nb"
   ]
  },
  {
   "cell_type": "code",
   "execution_count": 48,
   "metadata": {},
   "outputs": [],
   "source": [
    "final_y_pred = np.argmax(final_y_pred, axis=1)"
   ]
  },
  {
   "cell_type": "markdown",
   "metadata": {},
   "source": [
    "## Making A Submission"
   ]
  },
  {
   "cell_type": "code",
   "execution_count": 49,
   "metadata": {},
   "outputs": [
    {
     "data": {
      "text/html": [
       "<div>\n",
       "<style scoped>\n",
       "    .dataframe tbody tr th:only-of-type {\n",
       "        vertical-align: middle;\n",
       "    }\n",
       "\n",
       "    .dataframe tbody tr th {\n",
       "        vertical-align: top;\n",
       "    }\n",
       "\n",
       "    .dataframe thead th {\n",
       "        text-align: right;\n",
       "    }\n",
       "</style>\n",
       "<table border=\"1\" class=\"dataframe\">\n",
       "  <thead>\n",
       "    <tr style=\"text-align: right;\">\n",
       "      <th></th>\n",
       "      <th>Id</th>\n",
       "      <th>Category</th>\n",
       "    </tr>\n",
       "  </thead>\n",
       "  <tbody>\n",
       "    <tr>\n",
       "      <th>0</th>\n",
       "      <td>0</td>\n",
       "      <td>canada</td>\n",
       "    </tr>\n",
       "    <tr>\n",
       "      <th>1</th>\n",
       "      <td>1</td>\n",
       "      <td>new_zealand</td>\n",
       "    </tr>\n",
       "    <tr>\n",
       "      <th>2</th>\n",
       "      <td>2</td>\n",
       "      <td>us</td>\n",
       "    </tr>\n",
       "    <tr>\n",
       "      <th>3</th>\n",
       "      <td>3</td>\n",
       "      <td>australia</td>\n",
       "    </tr>\n",
       "    <tr>\n",
       "      <th>4</th>\n",
       "      <td>4</td>\n",
       "      <td>new_zealand</td>\n",
       "    </tr>\n",
       "    <tr>\n",
       "      <th>5</th>\n",
       "      <td>5</td>\n",
       "      <td>australia</td>\n",
       "    </tr>\n",
       "    <tr>\n",
       "      <th>6</th>\n",
       "      <td>6</td>\n",
       "      <td>us</td>\n",
       "    </tr>\n",
       "    <tr>\n",
       "      <th>7</th>\n",
       "      <td>7</td>\n",
       "      <td>us</td>\n",
       "    </tr>\n",
       "    <tr>\n",
       "      <th>8</th>\n",
       "      <td>8</td>\n",
       "      <td>new_zealand</td>\n",
       "    </tr>\n",
       "    <tr>\n",
       "      <th>9</th>\n",
       "      <td>9</td>\n",
       "      <td>australia</td>\n",
       "    </tr>\n",
       "  </tbody>\n",
       "</table>\n",
       "</div>"
      ],
      "text/plain": [
       "   Id     Category\n",
       "0   0       canada\n",
       "1   1  new_zealand\n",
       "2   2           us\n",
       "3   3    australia\n",
       "4   4  new_zealand\n",
       "5   5    australia\n",
       "6   6           us\n",
       "7   7           us\n",
       "8   8  new_zealand\n",
       "9   9    australia"
      ]
     },
     "execution_count": 49,
     "metadata": {},
     "output_type": "execute_result"
    }
   ],
   "source": [
    "submission = pd.DataFrame()\n",
    "submission[\"Id\"] = test_df[\"Id\"]\n",
    "submission[\"Category\"] = label_encoder.inverse_transform(final_y_pred)\n",
    "submission.head(10)"
   ]
  },
  {
   "cell_type": "code",
   "execution_count": 50,
   "metadata": {},
   "outputs": [],
   "source": [
    "submission.to_csv(r\"C:/Users/Thomas/Desktop/submission.csv\", index=False)"
   ]
  }
 ],
 "metadata": {
  "kernelspec": {
   "display_name": "Python 3.9.7 ('base')",
   "language": "python",
   "name": "python3"
  },
  "language_info": {
   "codemirror_mode": {
    "name": "ipython",
    "version": 3
   },
   "file_extension": ".py",
   "mimetype": "text/x-python",
   "name": "python",
   "nbconvert_exporter": "python",
   "pygments_lexer": "ipython3",
   "version": "3.9.7"
  },
  "orig_nbformat": 4,
  "vscode": {
   "interpreter": {
    "hash": "7d8cf412c429d163f0ec8962de5d99a5f7520d1b1380235674c38dc96da666cc"
   }
  }
 },
 "nbformat": 4,
 "nbformat_minor": 2
}
